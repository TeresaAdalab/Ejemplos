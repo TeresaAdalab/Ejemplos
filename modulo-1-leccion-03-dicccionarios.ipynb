{
 "cells": [
  {
   "cell_type": "markdown",
   "metadata": {},
   "source": []
  },
  {
   "cell_type": "markdown",
   "metadata": {},
   "source": [
    "Creacion de un diccionario\n"
   ]
  },
  {
   "cell_type": "code",
   "execution_count": 1,
   "metadata": {},
   "outputs": [
    {
     "name": "stdout",
     "output_type": "stream",
     "text": [
      "Este es el primer diccionario: {'lunes': 'monday', 'martes': 'tuesday', 'miércoles': 'wednesday'}\n",
      "------\n",
      "Este es el segundo diccionario: {'lunes': 1, 'martes': 2, 'miércoles': 3}\n",
      "------\n",
      "Este es el tercer diccionario: {1: 'monday', 2: 'tuesday', 3: 'wednesday'}\n",
      "------\n",
      "Este es el cuarto diccionario: {'lunes': [1, 'peras'], 'martes': [2, 'manzanas'], 'miércoles': [3, 'brocoli']}\n"
     ]
    }
   ],
   "source": [
    "# definimos un diccionario donde las keys sean strings y lo values también\n",
    "diccionario1 = { 'lunes':'monday', 'martes':'tuesday', 'miércoles':'wednesday' }\n",
    "\n",
    "# también podemos tener diccionarios donde las keys sean strings y los values números\n",
    "diccionario2 = { 'lunes': 1, 'martes':2, 'miércoles':3 }\n",
    "\n",
    "# o un diccionario donde sean números y los values strings\n",
    "diccionario3 = { 1:'monday', 2:'tuesday',3:'wednesday' }\n",
    "\n",
    "# o incluso diccionarios que tengan listas en sus values\n",
    "diccionario4 = { 'lunes': [1, \"peras\"], 'martes':[2, \"manzanas\"], 'miércoles':[3, \"brocoli\"] }\n",
    "\n",
    "\n",
    "print(\"Este es el primer diccionario:\", diccionario1)\n",
    "print(\"------\")\n",
    "print(\"Este es el segundo diccionario:\", diccionario2)\n",
    "print(\"------\")\n",
    "print(\"Este es el tercer diccionario:\", diccionario3)\n",
    "print(\"------\")\n",
    "print(\"Este es el cuarto diccionario:\", diccionario4)"
   ]
  },
  {
   "cell_type": "markdown",
   "metadata": {},
   "source": [
    "Crear un diccionario\n",
    "Usando el constructor dict() y pares clave-valor separados por coma. y Usando una lista de tuplas clave-valor"
   ]
  },
  {
   "cell_type": "code",
   "execution_count": 2,
   "metadata": {},
   "outputs": [
    {
     "name": "stdout",
     "output_type": "stream",
     "text": [
      "Este es el quinto diccionario: {'jueves': 'thursday', 'viernes': 'friday'}\n",
      "------\n",
      "Este es el sexto diccionario: {'sábado': 'saturday', 'domingo': 'sunday'}\n",
      "------\n"
     ]
    }
   ],
   "source": [
    "# definimos el diccionario con \"dict\" usando el operador \"=\" y cada par de clave-valor separado por comas\n",
    "diccionario5 = dict( jueves = 'thursday', viernes='friday' )\n",
    "\n",
    "# definimos el diccionario con \"dict\" usando una lista de tuplas, separando cada tupla por coma. Cada tupla será el par de clave-valor\n",
    "diccionario6 = dict( [ ('sábado','saturday'), ('domingo','sunday') ] )\n",
    "\n",
    "print(\"Este es el quinto diccionario:\", diccionario5)\n",
    "print(\"------\")\n",
    "print(\"Este es el sexto diccionario:\", diccionario6)\n",
    "print(\"------\")\n",
    "\n"
   ]
  },
  {
   "cell_type": "markdown",
   "metadata": {},
   "source": [
    "Usando el método fromkeys() para crear un diccionario con claves y valores predeterminados"
   ]
  },
  {
   "cell_type": "code",
   "execution_count": 3,
   "metadata": {},
   "outputs": [
    {
     "name": "stdout",
     "output_type": "stream",
     "text": [
      "Este es el septimo diccionario: {'jueves': [], 'viernes': [], 'sabado': []}\n",
      "------\n"
     ]
    }
   ],
   "source": [
    "claves = ['jueves', 'viernes', 'sabado']\n",
    "\n",
    "valor_predeterminado = []\n",
    "\n",
    "\n",
    "diccionario7 = dict.fromkeys(claves, valor_predeterminado)\n",
    "\n",
    "print(\"Este es el septimo diccionario:\", diccionario7)\n",
    "print(\"------\")"
   ]
  },
  {
   "cell_type": "markdown",
   "metadata": {},
   "source": [
    "Propiedades de los diccionarios"
   ]
  },
  {
   "cell_type": "code",
   "execution_count": 4,
   "metadata": {},
   "outputs": [
    {
     "name": "stdout",
     "output_type": "stream",
     "text": [
      "El diccionario que hemos creado es:  {'nombres': ['Lola', 'Marta', 'Lorena'], 'notas': [8, 9, 6]}\n",
      "La cantidad de pares de clave-valor del diccionario es:  2\n",
      "Las keys del diccionario son: dict_keys(['nombres', 'notas'])\n",
      "Las keys del diccionario son: dict_values([['Lola', 'Marta', 'Lorena'], [8, 9, 6]])\n"
     ]
    }
   ],
   "source": [
    "diccionario_alumnas = {\"nombres\": [\"Lola\", \"Marta\", \"Lorena\"], \"notas\": [8, 9, 6]}\n",
    "print(\"El diccionario que hemos creado es: \", diccionario_alumnas)\n",
    "\n",
    "print(\"La cantidad de pares de clave-valor del diccionario es: \", len(diccionario_alumnas))\n",
    "\n",
    "\n",
    "print(\"Las keys del diccionario son:\", diccionario_alumnas.keys())\n",
    "\n",
    "\n",
    "print(\"Las keys del diccionario son:\", diccionario_alumnas.values())\n",
    "\n",
    "\n"
   ]
  },
  {
   "cell_type": "markdown",
   "metadata": {},
   "source": [
    "Métodos de los diccionarios"
   ]
  },
  {
   "cell_type": "code",
   "execution_count": 5,
   "metadata": {},
   "outputs": [
    {
     "name": "stdout",
     "output_type": "stream",
     "text": [
      "El diccionario de las alumnas de clase es:  {'nombres': ['Lola', 'Marta', 'Lorena'], 'notas': [8, 9, 6]}\n",
      "La copia del diccionario de las alumnas de clase es:  {'nombres': ['Lola', 'Marta', 'Lorena'], 'notas': [8, 9, 6]}\n"
     ]
    }
   ],
   "source": [
    "print(\"El diccionario de las alumnas de clase es: \", diccionario_alumnas)\n",
    "\n",
    "\n",
    "diccionario_alumnas_copia = diccionario_alumnas.copy()\n",
    "print(\"La copia del diccionario de las alumnas de clase es: \", diccionario_alumnas_copia)"
   ]
  },
  {
   "cell_type": "markdown",
   "metadata": {},
   "source": [
    "Clear\n"
   ]
  },
  {
   "cell_type": "code",
   "execution_count": 6,
   "metadata": {},
   "outputs": [
    {
     "name": "stdout",
     "output_type": "stream",
     "text": [
      "La copia del diccionario de las alumnas de clase es:  {'nombres': ['Lola', 'Marta', 'Lorena'], 'notas': [8, 9, 6]}\n",
      "El diccionario de las alumnas de clase después de haberlo vaciado usando el método 'clear()` es:  {}\n",
      "El diccionario de las alumnas de clase es:  {'nombres': ['Lola', 'Marta', 'Lorena'], 'notas': [8, 9, 6]}\n"
     ]
    }
   ],
   "source": [
    "\n",
    "print(\"La copia del diccionario de las alumnas de clase es: \", diccionario_alumnas_copia)\n",
    "\n",
    "\n",
    "diccionario_alumnas_copia.clear()\n",
    "\n",
    "print(\"El diccionario de las alumnas de clase después de haberlo vaciado usando el método 'clear()` es: \", diccionario_alumnas_copia)\n",
    "\n",
    "\n",
    "print(\"El diccionario de las alumnas de clase es: \", diccionario_alumnas)"
   ]
  },
  {
   "cell_type": "markdown",
   "metadata": {},
   "source": [
    "Update"
   ]
  },
  {
   "cell_type": "code",
   "execution_count": 7,
   "metadata": {},
   "outputs": [
    {
     "name": "stdout",
     "output_type": "stream",
     "text": [
      "El diccionario original de las alumnas de clase es:  {'nombres': ['Lola', 'Marta', 'Lorena'], 'notas': [8, 9, 6]}\n",
      "El diccionario de las alumnas de clase después de añadir la nueva pareja de key-value es:  {'nombres': ['Lola', 'Marta', 'Lorena'], 'notas': [8, 9, 6], 'hermanos': ['Si', 'No', 'Si', 'Si', 'Si']}\n"
     ]
    }
   ],
   "source": [
    "print(\"El diccionario original de las alumnas de clase es: \", diccionario_alumnas)\n",
    "\n",
    "\n",
    "\n",
    "nuevo_elemento = {\"hermanos\": [\"Si\", \"No\", \"Si\", \"Si\", \"Si\"]}\n",
    "\n",
    "\n",
    "diccionario_alumnas.update(nuevo_elemento)\n",
    "print(\"El diccionario de las alumnas de clase después de añadir la nueva pareja de key-value es: \", diccionario_alumnas)"
   ]
  },
  {
   "cell_type": "markdown",
   "metadata": {},
   "source": [
    "Get"
   ]
  },
  {
   "cell_type": "code",
   "execution_count": 8,
   "metadata": {},
   "outputs": [
    {
     "name": "stdout",
     "output_type": "stream",
     "text": [
      "El diccionario original de las alumnas de clase es:  {'nombres': ['Lola', 'Marta', 'Lorena'], 'notas': [8, 9, 6], 'hermanos': ['Si', 'No', 'Si', 'Si', 'Si']}\n",
      "Los valores de la clave 'nombres' es:  ['Lola', 'Marta', 'Lorena']\n",
      "Los valores de la clave 'nombres' es:  ['Lola', 'Marta', 'Lorena']\n"
     ]
    }
   ],
   "source": [
    "\n",
    "print(\"El diccionario original de las alumnas de clase es: \", diccionario_alumnas)\n",
    "\n",
    "\n",
    "print(\"Los valores de la clave 'nombres' es: \", diccionario_alumnas.get(\"nombres\"))\n",
    "\n",
    "\n",
    "print(\"Los valores de la clave 'nombres' es: \", diccionario_alumnas[\"nombres\"])"
   ]
  },
  {
   "cell_type": "code",
   "execution_count": 9,
   "metadata": {},
   "outputs": [
    {
     "name": "stdout",
     "output_type": "stream",
     "text": [
      "Los valores de la clave 'hermanos' es:  ['Si', 'No', 'Si', 'Si', 'Si']\n",
      "Los valores de la clave 'hermanos' es:  ['Si', 'No', 'Si', 'Si', 'Si']\n"
     ]
    }
   ],
   "source": [
    "\n",
    "print(\"Los valores de la clave 'hermanos' es: \", diccionario_alumnas.get(\"hermanos\"))\n",
    "\n",
    "\n",
    "print(\"Los valores de la clave 'hermanos' es: \", diccionario_alumnas[\"hermanos\"])"
   ]
  },
  {
   "cell_type": "markdown",
   "metadata": {},
   "source": [
    "Setdefault"
   ]
  },
  {
   "cell_type": "code",
   "execution_count": 10,
   "metadata": {},
   "outputs": [
    {
     "name": "stdout",
     "output_type": "stream",
     "text": [
      "Los valores de la clave 'edad' es:  None\n",
      "Los valores de la clave 'edad' es:  None\n",
      "El diccionario de las alumnas es {'nombres': ['Lola', 'Marta', 'Lorena'], 'notas': [8, 9, 6], 'hermanos': ['Si', 'No', 'Si', 'Si', 'Si'], 'edad': None}\n",
      "Los valores de la clave 'curso' es:  no existe\n",
      "El contenido del diccionario es: {'nombres': ['Lola', 'Marta', 'Lorena'], 'notas': [8, 9, 6], 'hermanos': ['Si', 'No', 'Si', 'Si', 'Si'], 'edad': None, 'curso': 'no existe'}\n"
     ]
    }
   ],
   "source": [
    "\n",
    "print(\"Los valores de la clave 'edad' es: \", diccionario_alumnas.get(\"edad\"))\n",
    "\n",
    "\n",
    "print(\"Los valores de la clave 'edad' es: \", diccionario_alumnas.setdefault(\"edad\"))\n",
    "\n",
    "print(\"El diccionario de las alumnas es\", diccionario_alumnas)\n",
    "\n",
    "print(\"Los valores de la clave 'curso' es: \", diccionario_alumnas.setdefault(\"curso\", \"no existe\"))\n",
    "\n",
    "print(\"El contenido del diccionario es:\", diccionario_alumnas)"
   ]
  },
  {
   "cell_type": "code",
   "execution_count": 11,
   "metadata": {},
   "outputs": [
    {
     "name": "stdout",
     "output_type": "stream",
     "text": [
      "Los valores de la clave 'apellidos' es:  ['no existe']\n",
      "El contenido del diccionario es: {'nombres': ['Lola', 'Marta', 'Lorena'], 'notas': [8, 9, 6], 'hermanos': ['Si', 'No', 'Si', 'Si', 'Si'], 'edad': None, 'curso': 'no existe', 'apellidos': ['no existe']}\n"
     ]
    }
   ],
   "source": [
    "print(\"Los valores de la clave 'apellidos' es: \", diccionario_alumnas.setdefault(\"apellidos\", [\"no existe\"]))\n",
    "\n",
    "print(\"El contenido del diccionario es:\", diccionario_alumnas)"
   ]
  },
  {
   "cell_type": "markdown",
   "metadata": {},
   "source": [
    "Sorted"
   ]
  },
  {
   "cell_type": "code",
   "execution_count": 12,
   "metadata": {},
   "outputs": [
    {
     "name": "stdout",
     "output_type": "stream",
     "text": [
      "El diccionario de las mascotas es: {'nombre': 'Poes', 'cumpleaños': '01/07', 'tipo': 'européo común', 'vacunas': 'no tiene'}\n",
      "Los valores del diccionario ordenados son: ['01/07', 'Poes', 'européo común', 'no tiene']\n",
      "Los valores del diccionario ordenados son: ['no tiene', 'européo común', 'Poes', '01/07']\n"
     ]
    }
   ],
   "source": [
    "\n",
    "diccionario_mascotas = {'nombre': 'Poes',\n",
    "                        'cumpleaños': '01/07',\n",
    "                        'tipo': 'européo común',\n",
    "                        'vacunas': 'no tiene'}\n",
    "\n",
    "\n",
    "print(\"El diccionario de las mascotas es:\", diccionario_mascotas)\n",
    "\n",
    "\n",
    "print(\"Los valores del diccionario ordenados son:\", sorted(diccionario_mascotas.values()))\n",
    "\n",
    "\n",
    "print(\"Los valores del diccionario ordenados son:\", sorted(diccionario_mascotas.values(), reverse=True))"
   ]
  },
  {
   "cell_type": "markdown",
   "metadata": {},
   "source": [
    "Pop"
   ]
  },
  {
   "cell_type": "code",
   "execution_count": 13,
   "metadata": {},
   "outputs": [
    {
     "name": "stdout",
     "output_type": "stream",
     "text": [
      "El diccionario de las alumnas es {'nombres': ['Lola', 'Marta', 'Lorena'], 'notas': [8, 9, 6], 'hermanos': ['Si', 'No', 'Si', 'Si', 'Si'], 'edad': None, 'curso': 'no existe', 'apellidos': ['no existe']}\n",
      "Eliminamos la clave de 'edad' del diccionario: None\n",
      "El diccionario de las alumnas es {'nombres': ['Lola', 'Marta', 'Lorena'], 'notas': [8, 9, 6], 'hermanos': ['Si', 'No', 'Si', 'Si', 'Si'], 'curso': 'no existe', 'apellidos': ['no existe']}\n"
     ]
    }
   ],
   "source": [
    "print(\"El diccionario de las alumnas es\", diccionario_alumnas)\n",
    "\n",
    "\n",
    "print(\"Eliminamos la clave de 'edad' del diccionario:\", diccionario_alumnas.pop(\"edad\"))\n",
    "\n",
    "\n",
    "print(\"El diccionario de las alumnas es\", diccionario_alumnas)"
   ]
  },
  {
   "cell_type": "markdown",
   "metadata": {},
   "source": [
    "Pop Item"
   ]
  },
  {
   "cell_type": "code",
   "execution_count": 14,
   "metadata": {},
   "outputs": [
    {
     "name": "stdout",
     "output_type": "stream",
     "text": [
      "El diccionario de las alumnas es {'nombres': ['Lola', 'Marta', 'Lorena'], 'notas': [8, 9, 6], 'hermanos': ['Si', 'No', 'Si', 'Si', 'Si'], 'curso': 'no existe', 'apellidos': ['no existe']}\n",
      "Eliminamos EL ÚLTIMO PAR DE CLAVE-VALOR  del diccionario: ('apellidos', ['no existe'])\n",
      "El diccionario de las alumnas es {'nombres': ['Lola', 'Marta', 'Lorena'], 'notas': [8, 9, 6], 'hermanos': ['Si', 'No', 'Si', 'Si', 'Si'], 'curso': 'no existe'}\n"
     ]
    }
   ],
   "source": [
    "\n",
    "print(\"El diccionario de las alumnas es\", diccionario_alumnas)\n",
    "\n",
    "\n",
    "print(\"Eliminamos EL ÚLTIMO PAR DE CLAVE-VALOR  del diccionario:\", diccionario_alumnas.popitem())\n",
    "\n",
    "\n",
    "print(\"El diccionario de las alumnas es\", diccionario_alumnas)"
   ]
  },
  {
   "cell_type": "code",
   "execution_count": 15,
   "metadata": {},
   "outputs": [
    {
     "name": "stdout",
     "output_type": "stream",
     "text": [
      "El diccionario de la mascota es: {'nombre': 'Poes', 'cumpleaños': '01/07', 'tipo': 'européo común', 'vacunas': 'no tiene'}\n",
      "El diccionario de la mascota es: {'nombre': 'Darwin', 'cumpleaños': '01/07', 'tipo': 'européo común', 'vacunas': 'no tiene'}\n",
      "El diccionario de la mascota es: {'nombre': 'Darwin', 'cumpleaños': '01/07', 'tipo': 'européo común', 'vacunas': []}\n",
      "El valor de la clave 'vacunas' es:  []\n",
      "El valor de la clave 'vacunas' es:  <class 'list'>\n",
      "El diccionario de la mascota después de añadir una vacuna a la lista es: {'nombre': 'Darwin', 'cumpleaños': '01/07', 'tipo': 'européo común', 'vacunas': ['gripe']}\n",
      "El diccionario de la mascota después de añadir más vacunas a la lista es: {'nombre': 'Darwin', 'cumpleaños': '01/07', 'tipo': 'européo común', 'vacunas': ['gripe', 'leucemia felina']}\n"
     ]
    }
   ],
   "source": [
    "diccionario_mascotas_copia = diccionario_mascotas.copy()\n",
    "\n",
    "print(\"El diccionario de la mascota es:\", diccionario_mascotas_copia)\n",
    "\n",
    "\n",
    "diccionario_mascotas_copia[\"nombre\"] = \"Darwin\"\n",
    "\n",
    "\n",
    "print(\"El diccionario de la mascota es:\", diccionario_mascotas_copia)\n",
    "\n",
    "\n",
    "diccionario_mascotas_copia[\"vacunas\"] = []\n",
    "\n",
    "\n",
    "print(\"El diccionario de la mascota es:\", diccionario_mascotas_copia)\n",
    "\n",
    "\n",
    "print(\"El valor de la clave 'vacunas' es: \", diccionario_mascotas_copia['vacunas'])\n",
    "\n",
    "\n",
    "print(\"El valor de la clave 'vacunas' es: \", type(diccionario_mascotas_copia['vacunas']))\n",
    "\n",
    "\n",
    "\n",
    "diccionario_mascotas_copia[\"vacunas\"].append(\"gripe\")\n",
    "\n",
    "\n",
    "print(\"El diccionario de la mascota después de añadir una vacuna a la lista es:\", diccionario_mascotas_copia)\n",
    "\n",
    "\n",
    "diccionario_mascotas_copia[\"vacunas\"].append(\"leucemia felina\")\n",
    "print(\"El diccionario de la mascota después de añadir más vacunas a la lista es:\", diccionario_mascotas_copia)\n",
    "\n"
   ]
  }
 ],
 "metadata": {
  "kernelspec": {
   "display_name": "base",
   "language": "python",
   "name": "python3"
  },
  "language_info": {
   "codemirror_mode": {
    "name": "ipython",
    "version": 3
   },
   "file_extension": ".py",
   "mimetype": "text/x-python",
   "name": "python",
   "nbconvert_exporter": "python",
   "pygments_lexer": "ipython3",
   "version": "3.9.13"
  }
 },
 "nbformat": 4,
 "nbformat_minor": 2
}
