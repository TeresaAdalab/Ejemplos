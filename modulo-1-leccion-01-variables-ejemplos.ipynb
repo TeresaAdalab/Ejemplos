{
 "cells": [
  {
   "cell_type": "code",
   "execution_count": 149,
   "metadata": {},
   "outputs": [
    {
     "name": "stdout",
     "output_type": "stream",
     "text": [
      "3\n",
      "verde\n",
      "verde oscuro\n"
     ]
    }
   ],
   "source": [
    "# creamos una variable numérica que se llame \"cantidad\"\n",
    "cantidad = 3\n",
    "print(cantidad)\n",
    "\n",
    "# creamos una variable de tipo string que se llame \"categoria1\"\n",
    "categoria1 = \"verde\"\n",
    "print(categoria1)\n",
    "\n",
    "color_detalle = categoria1 + ' ' + 'oscuro'\n",
    "print(color_detalle)"
   ]
  },
  {
   "cell_type": "code",
   "execution_count": 150,
   "metadata": {},
   "outputs": [],
   "source": [
    "# variables con datos numéricos\n",
    "\n",
    "b1 = 3.0\n",
    "b2 = 5\n",
    "b3 = 5.0\n",
    "b4 = 118\n",
    "\n",
    "c1 = b1 + b2 \n",
    "c2 = b1 + b3\n",
    "c3 = b2 + b4\n",
    "c4 = b2 - b4 \n",
    "c5 = b4 / b2 \n",
    "c6 = b4 / b3"
   ]
  },
  {
   "cell_type": "code",
   "execution_count": 151,
   "metadata": {},
   "outputs": [
    {
     "name": "stdout",
     "output_type": "stream",
     "text": [
      "C1 =  3.0  +  5  =  8.0\n",
      "C2 =  3.0  +  5.0  =  8.0\n",
      "C3 =  5  +  118  =  123\n",
      "C4 =  5  -  118  =  -113\n",
      "C5 =  118  /  5  =  23.6\n",
      "C6 =  118  /  5.0  =  23.6\n"
     ]
    }
   ],
   "source": [
    "print('C1 = ', b1,' + ', b2,' = ', c1)\n",
    "print('C2 = ', b1,' + ', b3,' = ', c2)\n",
    "print('C3 = ', b2,' + ', b4,' = ', c3)\n",
    "print('C4 = ', b2,' - ', b4,' = ', c4)\n",
    "print('C5 = ', b4,' / ', b2,' = ', c5)\n",
    "print('C6 = ', b4,' / ', b3,' = ', c6)"
   ]
  },
  {
   "cell_type": "code",
   "execution_count": 152,
   "metadata": {},
   "outputs": [
    {
     "name": "stdout",
     "output_type": "stream",
     "text": [
      "23.6\n",
      "23.6\n",
      "23.6\n",
      "23.6\n",
      "23.6\n"
     ]
    }
   ],
   "source": [
    "C5 = int()\n",
    "print(c5)\n",
    "C5 = float()\n",
    "print(c5)\n",
    "\n",
    "C5 = int(b4 / b2)\n",
    "print(c5)\n",
    "C5 = float(b4 / b2)\n",
    "print(c5)\n",
    "C5 = str(b4 / b2)\n",
    "print(c5)"
   ]
  },
  {
   "cell_type": "code",
   "execution_count": 153,
   "metadata": {},
   "outputs": [
    {
     "name": "stdout",
     "output_type": "stream",
     "text": [
      "<class 'float'>\n",
      "<class 'int'>\n",
      "<class 'str'>\n"
     ]
    }
   ],
   "source": [
    "#*type casting* o conversión de tipos\n",
    "c5a = float(b4 / b2)\n",
    "c5b = int(b4 / b2)\n",
    "c5c = str(b4 / b2)\n",
    "t = type(c5a)\n",
    "\n",
    "print(t)\n",
    "print(type(c5b))\n",
    "print(type(c5c))"
   ]
  },
  {
   "cell_type": "code",
   "execution_count": 154,
   "metadata": {},
   "outputs": [
    {
     "name": "stdout",
     "output_type": "stream",
     "text": [
      "True\n",
      "True\n",
      "True\n"
     ]
    }
   ],
   "source": [
    "#isinstance\n",
    "print(isinstance(c5a,float))\n",
    "print(isinstance(c5b,int))\n",
    "print(isinstance(c5c,str))"
   ]
  },
  {
   "cell_type": "code",
   "execution_count": 155,
   "metadata": {},
   "outputs": [
    {
     "name": "stdout",
     "output_type": "stream",
     "text": [
      "Has recibido un ingreso, tu nuevo saldo es 335\n",
      "Has gastado dinero, tu nuevo saldo es 220\n"
     ]
    }
   ],
   "source": [
    "# Operaciones algebraicas\n",
    "saldo = 235\n",
    "ingreso = 100\n",
    "gasto = 15\n",
    "\n",
    "print('Has recibido un ingreso, tu nuevo saldo es',saldo + ingreso)\n",
    "print('Has gastado dinero, tu nuevo saldo es',saldo - gasto)"
   ]
  },
  {
   "cell_type": "code",
   "execution_count": 156,
   "metadata": {},
   "outputs": [
    {
     "name": "stdout",
     "output_type": "stream",
     "text": [
      "Has vendido 15 unidades.\n"
     ]
    }
   ],
   "source": [
    "unidades_por_pack_de_ahorro = 3\n",
    "packs_vendidos = 5\n",
    "print('Has vendido',unidades_por_pack_de_ahorro*packs_vendidos,'unidades.')"
   ]
  },
  {
   "cell_type": "code",
   "execution_count": 157,
   "metadata": {},
   "outputs": [
    {
     "name": "stdout",
     "output_type": "stream",
     "text": [
      "Nos queda stock para vender 5.0 packs.\n"
     ]
    }
   ],
   "source": [
    "unidades_en_almacen = 15\n",
    "print('Nos queda stock para vender',unidades_en_almacen/unidades_por_pack_de_ahorro,'packs.')"
   ]
  },
  {
   "cell_type": "code",
   "execution_count": 158,
   "metadata": {},
   "outputs": [
    {
     "name": "stdout",
     "output_type": "stream",
     "text": [
      "Has vendido 15 unidades.\n",
      "Nos queda stock para vender 5 packs, y 2 unidades sueltas.\n"
     ]
    }
   ],
   "source": [
    "unidades_por_pack_de_ahorro = 3\n",
    "packs_vendidos = 5\n",
    "unidades_en_almacen = 17\n",
    "\n",
    "print('Has vendido',unidades_por_pack_de_ahorro*packs_vendidos,'unidades.')\n",
    "\n",
    "print('Nos queda stock para vender',unidades_en_almacen//unidades_por_pack_de_ahorro,'packs, y',unidades_en_almacen%unidades_por_pack_de_ahorro,'unidades sueltas.')"
   ]
  },
  {
   "cell_type": "code",
   "execution_count": 159,
   "metadata": {},
   "outputs": [
    {
     "name": "stdout",
     "output_type": "stream",
     "text": [
      "Un paquete cúbico de 20 cm contiene 8.0 litros.\n"
     ]
    }
   ],
   "source": [
    "paquete_cm = 20\n",
    "paquete_litros = (paquete_cm / 10) ** 3\n",
    "print('Un paquete cúbico de',paquete_cm,'cm contiene',paquete_litros,'litros.')"
   ]
  },
  {
   "cell_type": "code",
   "execution_count": 160,
   "metadata": {},
   "outputs": [
    {
     "name": "stdout",
     "output_type": "stream",
     "text": [
      "La raíz de 5 es 2.23606797749979\n"
     ]
    }
   ],
   "source": [
    "variable = 5\n",
    "raiz = variable ** 0.5\n",
    "print('La raíz de',variable,'es',raiz)"
   ]
  },
  {
   "cell_type": "code",
   "execution_count": 161,
   "metadata": {},
   "outputs": [
    {
     "name": "stdout",
     "output_type": "stream",
     "text": [
      "€ 13.14\n"
     ]
    }
   ],
   "source": [
    "valor_del_stock = 236.45\n",
    "unidades_en_stock = 18\n",
    "precio_minimo_por_unidad = round(valor_del_stock/unidades_en_stock,2)\n",
    "print('€',precio_minimo_por_unidad)"
   ]
  },
  {
   "cell_type": "code",
   "execution_count": 162,
   "metadata": {},
   "outputs": [
    {
     "name": "stdout",
     "output_type": "stream",
     "text": [
      "3 chuches\n"
     ]
    }
   ],
   "source": [
    "ninos_en_clase = 29\n",
    "chuches_por_bolsa = 75\n",
    "chuches_por_nino = round(chuches_por_bolsa/ninos_en_clase)\n",
    "print(chuches_por_nino,'chuches')"
   ]
  },
  {
   "cell_type": "code",
   "execution_count": 163,
   "metadata": {},
   "outputs": [],
   "source": [
    "# Operaciones binarias"
   ]
  },
  {
   "cell_type": "code",
   "execution_count": 164,
   "metadata": {},
   "outputs": [
    {
     "name": "stdout",
     "output_type": "stream",
     "text": [
      "False\n",
      "True\n"
     ]
    }
   ],
   "source": [
    "cucharas_de_azucar = 5\n",
    "cucharas_en_receta1 = 7\n",
    "cucharas_en_receta2 = 5\n",
    "\n",
    "print(cucharas_de_azucar == cucharas_en_receta1)\n",
    "print(cucharas_de_azucar == cucharas_en_receta2)"
   ]
  },
  {
   "cell_type": "code",
   "execution_count": 165,
   "metadata": {},
   "outputs": [
    {
     "name": "stdout",
     "output_type": "stream",
     "text": [
      "True\n",
      "False\n"
     ]
    }
   ],
   "source": [
    "cucharas_de_azucar = 5.0\n",
    "cucharas_en_receta2 = 5.0\n",
    "print(cucharas_de_azucar == cucharas_en_receta2)\n",
    "print(cucharas_de_azucar is cucharas_en_receta2)"
   ]
  },
  {
   "cell_type": "code",
   "execution_count": 166,
   "metadata": {},
   "outputs": [
    {
     "name": "stdout",
     "output_type": "stream",
     "text": [
      "Podemos hacer la receta si:\n",
      "True es True\n",
      "True es True\n"
     ]
    }
   ],
   "source": [
    "cucharas_que_quedan = 7\n",
    "cucharas_en_receta = 5\n",
    "print('Podemos hacer la receta si:')\n",
    "print(cucharas_en_receta < cucharas_que_quedan,'es True')\n",
    "print(cucharas_que_quedan > cucharas_en_receta,'es True')"
   ]
  },
  {
   "cell_type": "code",
   "execution_count": 167,
   "metadata": {},
   "outputs": [
    {
     "name": "stdout",
     "output_type": "stream",
     "text": [
      "Podemos hacer la receta si:\n",
      "True es True\n",
      "True es True\n",
      "Nos sobrará azúcar si:\n",
      "True es True\n",
      "True es True\n"
     ]
    }
   ],
   "source": [
    "cucharas_que_quedan = 7\n",
    "cucharas_en_receta = 5\n",
    "\n",
    "print('Podemos hacer la receta si:')\n",
    "print(cucharas_en_receta <= cucharas_que_quedan,'es True')\n",
    "print(cucharas_que_quedan >= cucharas_en_receta,'es True')\n",
    "print('Nos sobrará azúcar si:')\n",
    "print(cucharas_en_receta < cucharas_que_quedan,'es True')\n",
    "print(cucharas_que_quedan > cucharas_en_receta,'es True')"
   ]
  },
  {
   "cell_type": "code",
   "execution_count": 168,
   "metadata": {},
   "outputs": [
    {
     "name": "stdout",
     "output_type": "stream",
     "text": [
      "Podemos hacer la receta 1?\n",
      "True\n"
     ]
    }
   ],
   "source": [
    "huevos_que_quedan = 4\n",
    "azúcar_que_queda_litros = 250\n",
    "harina_bizcocho_que_queda_gramos = 500\n",
    "harina_trigo_que_queda_gramos = 500\n",
    "impulsor_quimico_que_queda_cucharas = 2\n",
    "\n",
    "\n",
    "print('Podemos hacer la receta 1?')\n",
    "print(huevos_que_quedan >= 4 \n",
    "      and azúcar_que_queda_litros >= 120 \n",
    "      and (harina_bizcocho_que_queda_gramos >= 120 \n",
    "          or (harina_trigo_que_queda_gramos >= 120 \n",
    "             and impulsor_quimico_que_queda_cucharas >= 1.5)))"
   ]
  },
  {
   "cell_type": "code",
   "execution_count": 169,
   "metadata": {},
   "outputs": [
    {
     "name": "stdout",
     "output_type": "stream",
     "text": [
      "Ada Lovelace\n"
     ]
    }
   ],
   "source": [
    "# Métodos de los *strings* y la función `input()`\n",
    "hola = 'Hello'\n",
    "nombre = \"Ada\"\n",
    "apellido = 'Lovelace'\n",
    "\n",
    "nombre_completo = nombre + ' ' + apellido\n",
    "print(nombre_completo)"
   ]
  },
  {
   "cell_type": "code",
   "execution_count": 170,
   "metadata": {},
   "outputs": [
    {
     "name": "stdout",
     "output_type": "stream",
     "text": [
      "Hello Ada, ¡bienvenida a este bootcamp!\n"
     ]
    }
   ],
   "source": [
    "bienvenida = hola + ' ' + nombre + ', ¡bienvenida a este bootcamp!'\n",
    "print(bienvenida)"
   ]
  },
  {
   "cell_type": "code",
   "execution_count": 171,
   "metadata": {},
   "outputs": [
    {
     "name": "stdout",
     "output_type": "stream",
     "text": [
      "HELLO ADA, ¡BIENVENIDA A ESTE BOOTCAMP!\n",
      "HELLO ADA, ¡BIENVENIDA A ESTE BOOTCAMP!\n"
     ]
    }
   ],
   "source": [
    "## Upper\n",
    "print(bienvenida.upper())\n",
    "bienvenida_mayus = bienvenida.upper()\n",
    "print(bienvenida_mayus)"
   ]
  },
  {
   "cell_type": "code",
   "execution_count": 172,
   "metadata": {},
   "outputs": [
    {
     "name": "stdout",
     "output_type": "stream",
     "text": [
      "hello ada, ¡bienvenida a este bootcamp!\n"
     ]
    }
   ],
   "source": [
    "## Lower\n",
    "print(bienvenida.lower())\n"
   ]
  },
  {
   "cell_type": "code",
   "execution_count": 173,
   "metadata": {},
   "outputs": [
    {
     "name": "stdout",
     "output_type": "stream",
     "text": [
      "Hello ada, ¡bienvenida a este bootcamp!\n"
     ]
    }
   ],
   "source": [
    "## `capitalize()`\n",
    "print(bienvenida.capitalize())"
   ]
  },
  {
   "cell_type": "code",
   "execution_count": 174,
   "metadata": {},
   "outputs": [
    {
     "name": "stdout",
     "output_type": "stream",
     "text": [
      "Hello Ada, ¡Bienvenida A Este Bootcamp!\n"
     ]
    }
   ],
   "source": [
    "## `title()`\n",
    "print(bienvenida.title())"
   ]
  },
  {
   "cell_type": "code",
   "execution_count": 175,
   "metadata": {},
   "outputs": [
    {
     "name": "stdout",
     "output_type": "stream",
     "text": [
      "hELLO aDA, ¡BIENVENIDA A ESTE BOOTCAMP!\n"
     ]
    }
   ],
   "source": [
    "## `swapcase()`\n",
    "print(bienvenida.swapcase())"
   ]
  },
  {
   "cell_type": "code",
   "execution_count": 176,
   "metadata": {},
   "outputs": [
    {
     "name": "stdout",
     "output_type": "stream",
     "text": [
      "Nos alegra que estés aquí.\n"
     ]
    }
   ],
   "source": [
    "## `strip()`\n",
    "bienvenida2 = '    Nos alegra que estés aquí.     '\n",
    "\n",
    "print(bienvenida2.strip())"
   ]
  },
  {
   "cell_type": "code",
   "execution_count": 177,
   "metadata": {},
   "outputs": [
    {
     "data": {
      "text/plain": [
       "['Buenos ',\n",
       " 'ias chicas, sigamos apren',\n",
       " 'ien',\n",
       " 'o méto',\n",
       " 'os ',\n",
       " 'e los strings']"
      ]
     },
     "execution_count": 177,
     "metadata": {},
     "output_type": "execute_result"
    }
   ],
   "source": [
    "## `split()` \n",
    "\n",
    "saludo = \"Buenos dias chicas, sigamos aprendiendo métodos de los strings\"\n",
    "saludo_separado = saludo.split()\n",
    "saludo_separado\n",
    "\n",
    "\n",
    "\n",
    "saludo_separado2 = saludo.split(\"d\")\n",
    "saludo_separado2"
   ]
  },
  {
   "cell_type": "code",
   "execution_count": 178,
   "metadata": {},
   "outputs": [
    {
     "data": {
      "text/plain": [
       "['En un lugar de la Mancha, de cuyo nombre no quiero acordarme, no ha mucho tiempo que vivía un hidalgo de los de ',\n",
       " 'lanza en astillero, adarga antigua, rocín flaco y galgo corredor. Una olla de algo más vaca que carnero, salpicón las más noches,',\n",
       " 'duelos y quebrantos los sábados, lantejas los viernes, algún palomino de añadidura los domingos, ',\n",
       " 'consumían las tres partes de su hacienda.']"
      ]
     },
     "execution_count": 178,
     "metadata": {},
     "output_type": "execute_result"
    }
   ],
   "source": [
    "don_quijote = \"\"\"En un lugar de la Mancha, de cuyo nombre no quiero acordarme, no ha mucho tiempo que vivía un hidalgo de los de \n",
    "lanza en astillero, adarga antigua, rocín flaco y galgo corredor. Una olla de algo más vaca que carnero, salpicón las más noches,\n",
    "duelos y quebrantos los sábados, lantejas los viernes, algún palomino de añadidura los domingos, \n",
    "consumían las tres partes de su hacienda.\"\"\"\n",
    "\n",
    "don_quijote_separado = don_quijote.split(\"\\n\")\n",
    "don_quijote_separado"
   ]
  },
  {
   "cell_type": "code",
   "execution_count": 179,
   "metadata": {},
   "outputs": [
    {
     "data": {
      "text/plain": [
       "'Buenos dias Adalaber, sigamos aprendiendo métodos de los strings'"
      ]
     },
     "execution_count": 179,
     "metadata": {},
     "output_type": "execute_result"
    }
   ],
   "source": [
    "## `replace()`\n",
    "\n",
    "saludo\n",
    "\n",
    "saludo_adalaber = saludo.replace(\"chicas\", \"Adalaber\")\n",
    "saludo_adalaber"
   ]
  },
  {
   "cell_type": "code",
   "execution_count": 180,
   "metadata": {},
   "outputs": [
    {
     "data": {
      "text/plain": [
       "'En un lugar de la Mancha, de cuyo nombre no quiero acordarme, no ha mucho tiempo que vivía un hidalgo de DON QUIJOTE de \\nlanza en astillero, adarga antigua, rocín flaco y galgo corredor. Una olla de algo más vaca que carnero, salpicón las más noches,\\nduelos y quebrantos DON QUIJOTE sábados, lantejas los viernes, algún palomino de añadidura los domingos, \\nconsumían las tres partes de su hacienda.'"
      ]
     },
     "execution_count": 180,
     "metadata": {},
     "output_type": "execute_result"
    }
   ],
   "source": [
    "don_quijote_cambiado = don_quijote.replace(\" los \", \" DON QUIJOTE \", 2)\n",
    "don_quijote_cambiado"
   ]
  },
  {
   "cell_type": "code",
   "execution_count": 181,
   "metadata": {},
   "outputs": [
    {
     "data": {
      "text/plain": [
       "'Hola que tal estas Adalaber'"
      ]
     },
     "execution_count": 181,
     "metadata": {},
     "output_type": "execute_result"
    }
   ],
   "source": [
    "## `join()` \n",
    "\n",
    "lista_saludo = [\"Hola\", \"que tal estas\", \"Adalaber\"]\n",
    "string_saludo1 =  \" \".join(lista_saludo)\n",
    "string_saludo1"
   ]
  },
  {
   "cell_type": "code",
   "execution_count": 182,
   "metadata": {},
   "outputs": [
    {
     "data": {
      "text/plain": [
       "24"
      ]
     },
     "execution_count": 182,
     "metadata": {},
     "output_type": "execute_result"
    }
   ],
   "source": [
    "## `find()`\n",
    "\n",
    "saludo.find(\"m\", 10, 30)"
   ]
  },
  {
   "cell_type": "code",
   "execution_count": null,
   "metadata": {},
   "outputs": [],
   "source": []
  }
 ],
 "metadata": {
  "kernelspec": {
   "display_name": "base",
   "language": "python",
   "name": "python3"
  },
  "language_info": {
   "codemirror_mode": {
    "name": "ipython",
    "version": 3
   },
   "file_extension": ".py",
   "mimetype": "text/x-python",
   "name": "python",
   "nbconvert_exporter": "python",
   "pygments_lexer": "ipython3",
   "version": "3.9.13"
  }
 },
 "nbformat": 4,
 "nbformat_minor": 2
}
