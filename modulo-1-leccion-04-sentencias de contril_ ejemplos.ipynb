{
 "cells": [
  {
   "cell_type": "code",
   "execution_count": 55,
   "metadata": {},
   "outputs": [
    {
     "name": "stdout",
     "output_type": "stream",
     "text": [
      "Es 'a1' menor que 'a2'?: True\n",
      "Es 'a3' mayor o igual que 'a1'?: True\n",
      "Es 'a3' mayor que 'a1' y menor que 'a2'?: False\n",
      "Es 'a1' igual que 'a2': False\n"
     ]
    }
   ],
   "source": [
    "#Comparaciones\n",
    "a1 = 0\n",
    "a2 = 1\n",
    "a3 = 2\n",
    "\n",
    "print(\"Es 'a1' menor que 'a2'?:\",  a1 < a2)\n",
    "print(\"Es 'a3' mayor o igual que 'a1'?:\",  a3 >= a1)\n",
    "print(\"Es 'a3' mayor que 'a1' y menor que 'a2'?:\",  a1 < a3 < a2)\n",
    "print(\"Es 'a1' igual que 'a2':\", a1 == a2)"
   ]
  },
  {
   "cell_type": "markdown",
   "metadata": {},
   "source": [
    "## La función `if`\n"
   ]
  },
  {
   "cell_type": "code",
   "execution_count": 56,
   "metadata": {},
   "outputs": [
    {
     "name": "stdout",
     "output_type": "stream",
     "text": [
      "El número de peras que tenemos es: 6\n",
      "Tenemos muchas peras, ¿no te apetece comerte una?\n",
      "La lista de la compra contiene: []\n",
      "------------------\n",
      "El número de peras que tenemos en la nevera es: 6\n",
      "------------------\n",
      "La lista de la compra contiene: []\n",
      "------------------\n",
      "El número de peras que tenemos en la nevera es: 6\n",
      "------------------\n",
      "El número de peras que tenemos en la nevera es: 1\n",
      "------------------\n",
      "La lista de la compra contiene: ['peras']\n",
      "El número de peras que tenemos en la nevera es: 1\n",
      "------------------\n",
      "Hemos comprado: 10 peras\n",
      "------------------\n",
      "El número de peras que tenemos en la nevera es: 11\n",
      "------------------\n"
     ]
    }
   ],
   "source": [
    "numero_peras = int(input(\"¿Cuántas peras tienes en la nevera?\"))\n",
    "print(\"El número de peras que tenemos es:\", numero_peras)\n",
    "\n",
    "# vamos a empezar a hacer algunas operaciones básicas, empezaremos por chequear si tenemos más de 4 peras en la nevera\n",
    "if numero_peras > 4: # si el número de peras es mayor que 4\n",
    "    # en caso de que se cumpla la condición queremos sacar un mensaje, para lo que usaremos un print\n",
    "    print('Tenemos muchas peras, ¿no te apetece comerte una?')\n",
    "\n",
    "# lo primero que hacemos es crearnos una lista, que será nuestra lista de la compra\n",
    "\n",
    "lista_compra = []\n",
    "print(\"La lista de la compra contiene:\", lista_compra)\n",
    "print(\"------------------\")\n",
    "\n",
    "print(\"El número de peras que tenemos en la nevera es:\", numero_peras)\n",
    "print(\"------------------\")\n",
    "\n",
    "# imaginemos que nos hemos comido 5 peras. Tendremos que restar 5 a nuestra variable numero_peras\n",
    "# lo primero que hacemos es crearnos una lista, que será nuestra lista de la compra\n",
    "\n",
    "lista_compra = []\n",
    "print(\"La lista de la compra contiene:\", lista_compra)\n",
    "print(\"------------------\")\n",
    "\n",
    "print(\"El número de peras que tenemos en la nevera es:\", numero_peras)\n",
    "print(\"------------------\")\n",
    "\n",
    "# imaginemos que nos hemos comido 5 peras. Tendremos que restar 5 a nuestra variable numero_peras\n",
    "\n",
    "numero_peras -= 5 # esto es lo mismo que poner numero_peras = numero_peras - 5\n",
    "print(\"El número de peras que tenemos en la nevera es:\", numero_peras)\n",
    "print(\"------------------\")\n",
    "\n",
    "# por último definimos nuestro if. Lo que chequearemos es si tenemos menos de dos peras\n",
    "\n",
    "if numero_peras < 2: \n",
    "    # si esta condición se cumple queremos añadir peras a nuestra lista. Para eso podremos usar el método append que aprendimos en la lección de listas! \n",
    "    lista_compra.append(\"peras\")\n",
    "print(\"La lista de la compra contiene:\", lista_compra )\n",
    "\n",
    "print(\"El número de peras que tenemos en la nevera es:\", numero_peras)\n",
    "print(\"------------------\")\n",
    "\n",
    "# imaginemos que fuimos a la compra y hemos vuelto a casa y queremos actualizar nuestro número de peras. Primero definimos el número de peras que hemos comprado\n",
    "peras_compradas = 10\n",
    "print(\"Hemos comprado:\", peras_compradas, \"peras\")\n",
    "print(\"------------------\")\n",
    "\n",
    "# ahora tendremos que chequear si en nuestra lista de la compra teníamos peras. Para eso podremos usar el método \"in\" que aprendimos en lecciones anteriores\n",
    "# chequeamos si peras está en nuestra lista\n",
    "if \"peras\" in lista_compra: \n",
    "\n",
    "    # si está en nuestra lista, lo que haremos será sumar al número de peras que tenemos las peras compradas. \n",
    "    numero_peras += peras_compradas\n",
    "print(\"El número de peras que tenemos en la nevera es:\", numero_peras)\n",
    "print(\"------------------\")"
   ]
  },
  {
   "cell_type": "markdown",
   "metadata": {},
   "source": [
    "## If ... else ...\n"
   ]
  },
  {
   "cell_type": "code",
   "execution_count": 57,
   "metadata": {},
   "outputs": [
    {
     "name": "stdout",
     "output_type": "stream",
     "text": [
      "El número de peras que tenemos en la nevera es: 11\n",
      "------------------\n",
      "Tenemos muchas peras, deberíamos comernoslas...\n"
     ]
    }
   ],
   "source": [
    "# lo primero que haremos será recordad cuántas peras tenemos en la nevera\n",
    "\n",
    "print(\"El número de peras que tenemos en la nevera es:\", numero_peras)\n",
    "print(\"------------------\")\n",
    "\n",
    "# primero chequearemos si tenemos menos de 2 peras. Recordamos era nuestra condión para meter las peras en nuestra lista de la compra\n",
    "if numero_peras < 2:  \n",
    "    print('Tenemos pocas peras, hay que meterlas en la lista de la compra')\n",
    "    lista_compra.append(\"peras\")\n",
    "# si esta condición no se cumple, usaremos el else para especificar que queremos que pase. En este caso, que nos muestre un mensaje de que tenemos muchas peras. Debemos comernóslas! \n",
    "else: \n",
    "    print('Tenemos muchas peras, deberíamos comernoslas...')"
   ]
  },
  {
   "cell_type": "code",
   "execution_count": 58,
   "metadata": {},
   "outputs": [
    {
     "name": "stdout",
     "output_type": "stream",
     "text": [
      "El número de peras que tenemos en la nevera es: 1\n",
      "------------------\n",
      "Tenemos pocas peras, hay que meterlas en la lista de la compra\n",
      "La lista de la compra contiene: ['peras', 'peras']\n",
      "------------------\n"
     ]
    }
   ],
   "source": [
    "# creemos otra variable de numero de peras distinta\n",
    "numero_peras2 = 1\n",
    "print(\"El número de peras que tenemos en la nevera es:\", numero_peras2)\n",
    "print(\"------------------\")\n",
    "\n",
    "# primero chequearemos si tenemos menos de 2 peras. Recordamos era nuestra condión para meter las peras en nuestra lista de la compra\n",
    "if numero_peras2 < 2:  \n",
    "    print('Tenemos pocas peras, hay que meterlas en la lista de la compra')\n",
    "    lista_compra.append(\"peras\")\n",
    "# si esta condición no se cumple, usaremos el else para especificar que queremos que pase. En este caso, que nos muestre un mensaje de que tenemos muchas peras. Debemos comernóslas! \n",
    "else: \n",
    "    print('Tenemos muchas peras, deberíamos comernoslas...')\n",
    "\n",
    "print(\"La lista de la compra contiene:\", lista_compra)\n",
    "print(\"------------------\")"
   ]
  },
  {
   "cell_type": "markdown",
   "metadata": {},
   "source": [
    "## If ... elif ... else"
   ]
  },
  {
   "cell_type": "code",
   "execution_count": 59,
   "metadata": {},
   "outputs": [
    {
     "name": "stdout",
     "output_type": "stream",
     "text": [
      "El número de peras que tenemos en la nevera es: 11\n",
      "------------------\n",
      "Tenemos muchas peras, ¿no te apetece comerte una?\n"
     ]
    }
   ],
   "source": [
    "# recordemos cuántas peras teníamos\n",
    "print(\"El número de peras que tenemos en la nevera es:\", numero_peras)\n",
    "print(\"------------------\")\n",
    "\n",
    "# indicamos nuestra primera condición. Es decir, tener mas de 50 peras\n",
    "if numero_peras > 50: \n",
    "    print('Tenemos demasiadas peras, dónalas al banco de alimentos.')\n",
    "\n",
    "# en el elif pondremos las nuevas condiciones que queremos chequear. En este casi si hay más de 4 peras. \n",
    "elif numero_peras > 4: \n",
    "    print('Tenemos muchas peras, ¿no te apetece comerte una?')\n",
    "\n",
    "# podemos añadir todas las condiciones que queramos, es decir, podemos añadir todos los elif que queramos. En este caso, si es mayor que 0\n",
    "elif numero_peras > 0: \n",
    "    print(\"Añadiendo elemento a la lista de la compra\")\n",
    "    lista_compra.append(\"peras\")\n",
    "\n",
    "# por último añadimos el else especificamos lo que queremos que ocurra si no se cumplen ninguna de las condiciones anteriores. \n",
    "else:\n",
    "    print('No tenemos peras.')"
   ]
  },
  {
   "cell_type": "code",
   "execution_count": 60,
   "metadata": {},
   "outputs": [
    {
     "name": "stdout",
     "output_type": "stream",
     "text": [
      "El número de peras que tenemos en la nevera es: 11\n",
      "------------------\n",
      "Añadiendo elemento a la lista de la compra\n"
     ]
    }
   ],
   "source": [
    "# recordemos cuántas peras teníamos\n",
    "print(\"El número de peras que tenemos en la nevera es:\", numero_peras)\n",
    "print(\"------------------\")\n",
    "\n",
    "# indicamos nuestra primera condición. Es decir, tener mas de 50 peras\n",
    "if numero_peras > 50: \n",
    "    print('Tenemos demasiadas peras, dónalas al banco de alimentos.')\n",
    "\n",
    "elif numero_peras > 0: \n",
    "    print(\"Añadiendo elemento a la lista de la compra\")\n",
    "    lista_compra.append(\"peras\")\n",
    "\n",
    "elif numero_peras > 4: \n",
    "    print('Tenemos muchas peras, ¿no te apetece comerte una?')\n",
    "\n",
    "else:\n",
    "    print('No tenemos peras.')"
   ]
  },
  {
   "cell_type": "markdown",
   "metadata": {},
   "source": [
    "## If anidados"
   ]
  },
  {
   "cell_type": "code",
   "execution_count": 61,
   "metadata": {},
   "outputs": [
    {
     "name": "stdout",
     "output_type": "stream",
     "text": [
      "El número de peras que tenemos en la nevera es: 11\n",
      "------------------\n",
      "Tenemos muchas peras, ¿no te apetece comerte una?\n"
     ]
    }
   ],
   "source": [
    "print(\"El número de peras que tenemos en la nevera es:\", numero_peras)\n",
    "print(\"------------------\")\n",
    "\n",
    "# 1️⃣ primera condición. Es el número de peras mayor que 4?\n",
    "if numero_peras > 4: \n",
    "\n",
    "    # 1️⃣.1️⃣ en caso de que sea si, ¿Es el número de peras mayor que 50? \n",
    "    if numero_peras > 50 :\n",
    "        print('Tenemos demasiadas peras, dónalas al banco de alimentos.')\n",
    "        \n",
    "    # si se cumple la condición 1️⃣ pero no la 1️⃣.1️⃣ se ejecutará esta línea de código\n",
    "    else:\n",
    "        print('Tenemos muchas peras, ¿no te apetece comerte una?')\n",
    "\n",
    "# si no se cumple la condición 1️⃣, pasaremos a esta parte del código, es decir, nuestro número de peras es menor que 4\n",
    "else: \n",
    "    # 2️⃣.1️⃣ Si el número de peras es menor que 4, pero mayor que 0 se añadirá peras a la lista de la compra\n",
    "    if numero_peras > 0 :\n",
    "        lista_compra.append(\"peras\")\n",
    "        print(\"añadiendo peras a la lista de la compra\")\n",
    "\n",
    "    # 2️⃣.2️⃣ en caso de que no cumplan ninguna de las condiciones se ejecutará esta línea de código\n",
    "    else:\n",
    "        print('No tenemos peras.')"
   ]
  },
  {
   "cell_type": "code",
   "execution_count": 62,
   "metadata": {},
   "outputs": [
    {
     "name": "stdout",
     "output_type": "stream",
     "text": [
      "El número de peras que tenemos en la nevera es: 11\n",
      "-------------------\n",
      "Tenemos muchas peras, ¿no te apetece comerte una?\n"
     ]
    }
   ],
   "source": [
    "print(\"El número de peras que tenemos en la nevera es:\", numero_peras)\n",
    "print(\"-------------------\")\n",
    "# recordemos también el código que habíamos creado un poco más arriba incluyemdo if ... elif ... else. \n",
    "# Recordad, siempre es importante leer el código con detenimiento\n",
    "if numero_peras > 50: \n",
    "    print('Tenemos demasiadas peras, dónalas al banco de alimentos.')\n",
    "\n",
    "elif numero_peras > 4: \n",
    "    print('Tenemos muchas peras, ¿no te apetece comerte una?')\n",
    "\n",
    "elif numero_peras > 0: \n",
    "    print(\"Añadiendo elemento a la lista de la compra\")\n",
    "    lista_compra.append(\"peras\")\n",
    "    \n",
    "else:\n",
    "    print('No tenemos peras.')"
   ]
  },
  {
   "cell_type": "markdown",
   "metadata": {},
   "source": [
    "## Operadores and /or"
   ]
  },
  {
   "cell_type": "code",
   "execution_count": 63,
   "metadata": {},
   "outputs": [
    {
     "name": "stdout",
     "output_type": "stream",
     "text": [
      "El número de peras que tenemos en la nevera es: 11\n",
      "-------------------\n",
      "Tenemos demasiadas peras, dónalas al banco de alimentos.\n"
     ]
    }
   ],
   "source": [
    "print(\"El número de peras que tenemos en la nevera es:\", numero_peras)\n",
    "print(\"-------------------\")\n",
    "\n",
    "if numero_peras > 4 and numero_peras < 50:  \n",
    "    print('Tenemos demasiadas peras, dónalas al banco de alimentos.')\n",
    "\n",
    "elif 4 < numero_peras and numero_peras > 0: \n",
    "    print('Añadiendo elemento a la lista de la compra')"
   ]
  },
  {
   "cell_type": "code",
   "execution_count": 64,
   "metadata": {},
   "outputs": [
    {
     "name": "stdout",
     "output_type": "stream",
     "text": [
      "¿La nevera esta encendida? True\n",
      "-------------------\n",
      "El número de peras que tenemos en la nevera es: 11\n",
      "-------------------\n",
      "Tenemos muchas peras, ¿no te apetece comerte una?\n"
     ]
    }
   ],
   "source": [
    "# establecemos que la nevera está en marcha\n",
    "nevera_en_marcha = True\n",
    "print(\"¿La nevera esta encendida?\", nevera_en_marcha)\n",
    "print(\"-------------------\")\n",
    "\n",
    "print(\"El número de peras que tenemos en la nevera es:\", numero_peras)\n",
    "print(\"-------------------\")\n",
    "\n",
    "# chequeamos el valor de la nevera. En caso de que esté encendida\n",
    "if nevera_en_marcha: # esto es lo mismo que poner if nevera == True\n",
    "\n",
    "  # en caso de que este encendida y el número de peras este entre 0 y 4\n",
    "  if 0 < numero_peras < 4:\n",
    "    print('Añadimos peras a la lista')\n",
    "    lista_compra.append(\"peras\")\n",
    "\n",
    "  # en caso de que el número de peras este entre 4 y 50 sugerimos comer peras\n",
    "  elif 4 < numero_peras < 50:\n",
    "    print('Tenemos muchas peras, ¿no te apetece comerte una?')\n",
    "\n",
    "# en caso de que la nevera esté apagada, es decir que el valor de nevera_en_marcha == False\n",
    "else:  \n",
    "  # sacaremos por pantalla el mensaje de que la nevera esta rota\n",
    "  print('La nevera está rota.')"
   ]
  },
  {
   "cell_type": "code",
   "execution_count": 65,
   "metadata": {},
   "outputs": [
    {
     "name": "stdout",
     "output_type": "stream",
     "text": [
      "¿La nevera esta encendida? False\n",
      "-------------------\n",
      "El número de peras que tenemos en la nevera es: 11\n",
      "-------------------\n",
      "La nevera está rota.\n"
     ]
    }
   ],
   "source": [
    "# volvemos a ejecutar el código de antes, pero en este caso para la variable nevera_en_marcha2\n",
    "nevera_en_marcha2 = False\n",
    "\n",
    "print(\"¿La nevera esta encendida?\", nevera_en_marcha2)\n",
    "print(\"-------------------\")\n",
    "\n",
    "print(\"El número de peras que tenemos en la nevera es:\", numero_peras)\n",
    "print(\"-------------------\")\n",
    "\n",
    "# chequeamos el valor de la nevera. En caso de que esté encendida\n",
    "if nevera_en_marcha2: # esto es lo mismo que poner if nevera == True\n",
    "\n",
    "  # en caso de que este encendida y el número de peras este entre 0 y 4\n",
    "  if 0 < numero_peras < 4:\n",
    "    print('Añadimos peras a la lista')\n",
    "    lista_compra.append(\"peras\")\n",
    "\n",
    "  # en caso de que el número de peras este entre 4 y 50 sugerimos comer peras\n",
    "  elif 4 < numero_peras < 50:\n",
    "    print('Tenemos muchas peras, ¿no te apetece comerte una?')\n",
    "\n",
    "# en caso de que la nevera esté apagada, es decir que el valor de nevera_en_marcha == False\n",
    "else:  \n",
    "  # sacaremos por pantalla el mensaje de que la nevera esta rota\n",
    "  print('La nevera está rota.')"
   ]
  },
  {
   "cell_type": "code",
   "execution_count": 66,
   "metadata": {},
   "outputs": [
    {
     "ename": "NameError",
     "evalue": "name 'hoy_es_viernes' is not defined",
     "output_type": "error",
     "traceback": [
      "\u001b[0;31m---------------------------------------------------------------------------\u001b[0m",
      "\u001b[0;31mNameError\u001b[0m                                 Traceback (most recent call last)",
      "\u001b[0;32m/tmp/ipykernel_3956/2085713847.py\u001b[0m in \u001b[0;36m<module>\u001b[0;34m\u001b[0m\n\u001b[1;32m      1\u001b[0m \u001b[0;31m# definimos nuestra primera condición, que sea viernes o no\u001b[0m\u001b[0;34m\u001b[0m\u001b[0;34m\u001b[0m\u001b[0m\n\u001b[0;32m----> 2\u001b[0;31m \u001b[0;32mif\u001b[0m \u001b[0mhoy_es_viernes\u001b[0m\u001b[0;34m:\u001b[0m\u001b[0;34m\u001b[0m\u001b[0;34m\u001b[0m\u001b[0m\n\u001b[0m\u001b[1;32m      3\u001b[0m     \u001b[0;32mif\u001b[0m \u001b[0mcongelador_en_marcha\u001b[0m\u001b[0;34m:\u001b[0m\u001b[0;34m\u001b[0m\u001b[0;34m\u001b[0m\u001b[0m\n\u001b[1;32m      4\u001b[0m         \u001b[0mprint\u001b[0m\u001b[0;34m(\u001b[0m\u001b[0;34m'Coge un helado, ¡te lo mereces!'\u001b[0m\u001b[0;34m)\u001b[0m\u001b[0;34m\u001b[0m\u001b[0;34m\u001b[0m\u001b[0m\n\u001b[1;32m      5\u001b[0m     \u001b[0;32melse\u001b[0m\u001b[0;34m:\u001b[0m\u001b[0;34m\u001b[0m\u001b[0;34m\u001b[0m\u001b[0m\n",
      "\u001b[0;31mNameError\u001b[0m: name 'hoy_es_viernes' is not defined"
     ]
    }
   ],
   "source": [
    "# definimos nuestra primera condición, que sea viernes o no\n",
    "if hoy_es_viernes:\n",
    "    if congelador_en_marcha:\n",
    "        print('Coge un helado, ¡te lo mereces!')\n",
    "    else:\n",
    "        print('Sal a la heladería, ¡te lo mereces!')\n",
    "\n",
    "\n",
    "# definimos nuestra segunda condición, que el congelador funcione o no\n",
    "if congelador_en_marcha:\n",
    "    if hoy_es_viernes:\n",
    "        print('Coge un helado, ¡te lo mereces!')\n",
    "else:\n",
    "    if hoy_es_viernes:\n",
    "        print('Sal a la heladería, ¡te lo mereces!')"
   ]
  },
  {
   "cell_type": "code",
   "execution_count": null,
   "metadata": {},
   "outputs": [],
   "source": [
    "# ¿qué pasaría si no fuera viernes?\n",
    "\n",
    "\n",
    "hoy_es_viernes2 = False\n",
    "print(\"¿Es hoy viernes?\", hoy_es_viernes2)\n",
    "print(\"-------------------\")\n",
    "\n",
    "congelador_en_marcha2 = False\n",
    "print(\"¿Está en congelador en marcha?\", congelador_en_marcha2)\n",
    "print(\"-------------------\")\n",
    "\n",
    "\n",
    "if hoy_es_viernes2 and congelador_en_marcha2:\n",
    "    print('Coge un helado, ¡te lo mereces!')\n",
    "\n",
    "elif hoy_es_viernes2 and not congelador_en_marcha2:\n",
    "    print('Sal a la heladería, ¡te lo mereces!')\n",
    "else:\n",
    "    print(\"Todavía no toca helado, pero ya queda menos!\")"
   ]
  },
  {
   "cell_type": "markdown",
   "metadata": {},
   "source": [
    "## While"
   ]
  },
  {
   "cell_type": "code",
   "execution_count": null,
   "metadata": {},
   "outputs": [
    {
     "name": "stdout",
     "output_type": "stream",
     "text": [
      "El límite de peras para ir al supermercado es: 2\n",
      "---------------------------\n",
      "El número de peras que tenemos en la nevera es: 11\n",
      "---------------------------\n",
      "El número de peras que tenemos en la nevera es 11\n",
      "El número de peras que tenemos en la nevera es 10\n",
      "El número de peras que tenemos en la nevera es 9\n",
      "El número de peras que tenemos en la nevera es 8\n",
      "El número de peras que tenemos en la nevera es 7\n",
      "El número de peras que tenemos en la nevera es 6\n",
      "El número de peras que tenemos en la nevera es 5\n",
      "El número de peras que tenemos en la nevera es 4\n",
      "El número de peras que tenemos en la nevera es 3\n"
     ]
    }
   ],
   "source": [
    "# los primero que vamos a hacer es definir una variable, que será nuestro límite de peras en la nevera. Cuando llegue a ese valor querremos añadirlo a la lista de la compra. \n",
    "\n",
    "limite_peras = 2\n",
    "\n",
    "print(\"El límite de peras para ir al supermercado es:\", limite_peras)\n",
    "print(\"---------------------------\")\n",
    "\n",
    "print(\"El número de peras que tenemos en la nevera es:\", numero_peras)\n",
    "print(\"---------------------------\")\n",
    "\n",
    "# lo que estamos haciendo aquí es establecer la condición usando el while, donde decimos que siempre que el número de peras sea mayor que el límite, seguiremos comiendo peras\n",
    "# este código parará cuando el número de peras sea igual o menor a el límite de peras que indicamos con nuestra variable limite_peras.\n",
    "while numero_peras > limite_peras:\n",
    "  print(f'El número de peras que tenemos en la nevera es {numero_peras}')\n",
    "\n",
    "  # cada vez que me como una pera la quito de la cantidad de peras que tenemos en la nevera\n",
    "  numero_peras -= 1    # recordemos que sinónimo de i = i + 1\n"
   ]
  },
  {
   "cell_type": "code",
   "execution_count": 67,
   "metadata": {},
   "outputs": [
    {
     "name": "stdout",
     "output_type": "stream",
     "text": [
      "El valor de la variable 'opcion' es: True\n",
      "-----------------\n",
      "Has seleccionado 'a'!\n",
      "Has seleccionado 'b'!\n",
      "Has seleccionado 'c'!\n",
      "Has seleccionado 'c'!\n",
      "Has seleccionado 'c'!\n",
      "Has seleccionado q ! la cual no es una opción inválida 😔\n",
      "\n"
     ]
    }
   ],
   "source": [
    "# definimos una variable con el valor de True. \n",
    "opcion = True\n",
    "\n",
    "print(\"El valor de la variable 'opcion' es:\", opcion)\n",
    "print(\"-----------------\")\n",
    "# especificamos que si la variable opcion es True, entonces seguiremos ejecutando el código\n",
    "while opcion == True:\n",
    "\n",
    "    # pedimos al usuario que introduzca una de las opciones que tenemos\n",
    "    selecciona_opcion = input(\"Por favor selecciona una letra de las siguientes: 'a', 'b', or 'c'\")\n",
    "\n",
    "    # empezamos poniendo condicionales if. Si la opción del usuario es \"a\", printeamos un mensaje indicando cuál fue la selección de usuario\n",
    "    if selecciona_opcion == \"a\":\n",
    "        print(\"Has seleccionado 'a'!\")\n",
    "\n",
    "    # hacemos lo mismo para el resto de las opciones que le pasamos al usuario\n",
    "    elif selecciona_opcion == \"b\":\n",
    "        print(\"Has seleccionado 'b'!\")\n",
    "    elif selecciona_opcion == \"c\":\n",
    "        print(\"Has seleccionado 'c'!\")\n",
    "    \n",
    "    # en caso de que el usuario no haya seleccionado ninguna de las opciones que le hemos pasado, entonces cambiaremos el valor de la variable opcion a False\n",
    "    else:\n",
    "        print(\"Has seleccionado\", selecciona_opcion, \"! la cual no es una opción inválida 😔\")\n",
    "\n",
    "        # en caso de que ocurra esta condición, nuestra variable opcion cambiará a False y el bucle while se parará, ya que para que funcione la variable opcion debe ser True\n",
    "        print()\n",
    "        opcion =  False"
   ]
  }
 ],
 "metadata": {
  "kernelspec": {
   "display_name": "base",
   "language": "python",
   "name": "python3"
  },
  "language_info": {
   "codemirror_mode": {
    "name": "ipython",
    "version": 3
   },
   "file_extension": ".py",
   "mimetype": "text/x-python",
   "name": "python",
   "nbconvert_exporter": "python",
   "pygments_lexer": "ipython3",
   "version": "3.9.7"
  }
 },
 "nbformat": 4,
 "nbformat_minor": 2
}
