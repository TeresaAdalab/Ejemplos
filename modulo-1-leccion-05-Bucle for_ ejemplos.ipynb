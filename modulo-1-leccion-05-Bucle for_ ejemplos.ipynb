{
 "cells": [
  {
   "cell_type": "markdown",
   "metadata": {},
   "source": [
    "## Bucle for"
   ]
  },
  {
   "cell_type": "code",
   "execution_count": 42,
   "metadata": {},
   "outputs": [
    {
     "name": "stdout",
     "output_type": "stream",
     "text": [
      "La lista 'estaciones' contiene: ['primavera', 'verano', 'otoño', 'invierno']\n",
      "---------------------\n",
      "estamos accediendo al elemento primavera\n",
      "...........................\n",
      "estamos accediendo al elemento verano\n",
      "...........................\n",
      "estamos accediendo al elemento otoño\n",
      "...........................\n",
      "estamos accediendo al elemento invierno\n",
      "...........................\n"
     ]
    }
   ],
   "source": [
    "\n",
    "estaciones = ['primavera', 'verano', 'otoño', 'invierno'] # creemos una lista donde tengamos 4 strings que correspondan a las 4 estaciones\n",
    "\n",
    "print(\"La lista 'estaciones' contiene:\", estaciones)\n",
    "print(\"---------------------\")\n",
    "\n",
    "for estacion in estaciones: # siguiendo la sintaxis de los bucles for, lo iniciamos usando las palabras reservadas for e in \n",
    "   print(f\"estamos accediendo al elemento {estacion}\")\n",
    "   print(\"...........................\")"
   ]
  },
  {
   "cell_type": "code",
   "execution_count": 43,
   "metadata": {},
   "outputs": [
    {
     "name": "stdout",
     "output_type": "stream",
     "text": [
      "La lista 'lista_numeros' contiene: [1, 2, 4, 8, 16]\n",
      "---------------------\n",
      "La lista 'numeros_sumados': []\n",
      "---------------------\n",
      "\n",
      "el número al que estamos accediendo es 1\n",
      "el número al que estamos accediendo es 2\n",
      "el número al que estamos accediendo es 4\n",
      "el número al que estamos accediendo es 8\n",
      "el número al que estamos accediendo es 16\n",
      "[2, 3, 5, 9, 17]\n",
      "............................\n"
     ]
    }
   ],
   "source": [
    "\n",
    "lista_numeros = [1, 2, 4, 8, 16] # definimos nuestra lista de números\n",
    "print(\"La lista 'lista_numeros' contiene:\", lista_numeros)\n",
    "print(\"---------------------\")\n",
    "\n",
    "\n",
    "numeros_sumados = [] # nos creamos una lista vacía\n",
    "print(\"La lista 'numeros_sumados':\", numeros_sumados)\n",
    "print(\"---------------------\\n\")\n",
    "\n",
    "\n",
    "for numero in lista_numeros : # iniciamos nuestro bucle for iterando por nuestra lista de numeros. Donde numero será cada unos de números que tenemos en la lista.\n",
    "\n",
    "        print(f\"el número al que estamos accediendo es {numero}\") # printemos el número al que estamos accediendo\n",
    "\n",
    "        suma = numero + 1 # al elemento al que estamos accediendo le sumamos uno y lo almacenamos en una variable\n",
    "        numeros_sumados.append(suma) # añadimos el nuevo número a nuestra lista vacía numeros_sumados\n",
    "\n",
    "   \n",
    "print(numeros_sumados)  # a medida que vamos avanzando en la iteración vamos printeando los resultados de la lista numeros_sumados\n",
    "print(\"............................\")"
   ]
  },
  {
   "cell_type": "code",
   "execution_count": 44,
   "metadata": {},
   "outputs": [
    {
     "name": "stdout",
     "output_type": "stream",
     "text": [
      "Las ciudades que tenemos en nuestra lista son: ['Madrid', 'Leon', 'Soria', 'Valencia', 'Ciudad Real']\n",
      "-----------------------------------------\n",
      "El contenido de la lista 'ciudades_mayusculas' contiene: []\n",
      "-----------------------------------------\n",
      "Estamos interando por la ciudad Madrid\n",
      "Estamos interando por la ciudad Leon\n",
      "Estamos interando por la ciudad Soria\n",
      "Estamos interando por la ciudad Valencia\n",
      "Estamos interando por la ciudad Ciudad Real\n",
      "------------------------------\n",
      "El contenido de la lista 'ciudades_mayusculas' DESPUÉS DEL BUCLE FOR contiene: ['MADRID', 'LEON', 'SORIA', 'VALENCIA', 'CIUDAD REAL']\n",
      "Y voilá! Ya tenemos una lista nueva con todas las ciudades en mayúsculas 🎊. \n"
     ]
    }
   ],
   "source": [
    "\n",
    "ciudades = [\"Madrid\", \"Leon\", \"Soria\", \"Valencia\", \"Ciudad Real\"] #  lista de ciudades\n",
    "print(\"Las ciudades que tenemos en nuestra lista son:\", ciudades)\n",
    "print(\"-----------------------------------------\")\n",
    "\n",
    "ciudades_mayusculas = [] #lista vacía donde almancenaremos las ciudades de la lista anterior en mayúscula\n",
    "print(\"El contenido de la lista 'ciudades_mayusculas' contiene:\", ciudades_mayusculas)\n",
    "print(\"-----------------------------------------\")\n",
    "\n",
    "\n",
    "for ciudad in ciudades: # iniciamos el for\n",
    "    \n",
    "    print(f\"Estamos interando por la ciudad {ciudad}\") # sacamos por pantalla la ciudad por la que estamos interando\n",
    "\n",
    "    ciudades_mayusculas.append(ciudad.upper())\n",
    "\n",
    "\n",
    "print(\"------------------------------\")\n",
    "print(\"El contenido de la lista 'ciudades_mayusculas' DESPUÉS DEL BUCLE FOR contiene:\", ciudades_mayusculas)\n",
    "\n",
    "print(\"Y voilá! Ya tenemos una lista nueva con todas las ciudades en mayúsculas 🎊. \")"
   ]
  },
  {
   "cell_type": "code",
   "execution_count": 45,
   "metadata": {},
   "outputs": [
    {
     "name": "stdout",
     "output_type": "stream",
     "text": [
      "El diccionario 'diccionario_compra' contiene {'Brocoli': 2.45, 'Chorizo': 45, 'Zanahoria': 7, 'Arroz': 1.2, 'Pan': 0.95}\n",
      "-------------------------------\n",
      "2.45\n",
      "........\n",
      "45\n",
      "........\n",
      "7\n",
      "........\n",
      "1.2\n",
      "........\n",
      "0.95\n",
      "........\n",
      "Brocoli ----> 2.45\n",
      "Chorizo ----> 45\n",
      "Zanahoria ----> 7\n",
      "Arroz ----> 1.2\n",
      "Pan ----> 0.95\n"
     ]
    }
   ],
   "source": [
    "## Bucle for con Diccionarios\n",
    "\n",
    "\n",
    "diccionario_compra = {'Brocoli': 2.45,  # lo primero que vamos a hacer es definir un diccionario:\n",
    "       'Chorizo': 45,\n",
    "       'Zanahoria': 7, \n",
    "       'Arroz': 1.2, \n",
    "       'Pan': 0.95}\n",
    "\n",
    "print(\"El diccionario 'diccionario_compra' contiene\", diccionario_compra)\n",
    "print(\"-------------------------------\")\n",
    "for i in diccionario_compra.values():\n",
    "    print(i)\n",
    "    print(\"........\")\n",
    "\n",
    "\n",
    "for key, value in diccionario_compra.items(): # iteremos ahora con el método .items(), para el cual deberemos generar dos iterables (key, value)\n",
    "    print(key, \"---->\", value)"
   ]
  },
  {
   "cell_type": "code",
   "execution_count": 46,
   "metadata": {},
   "outputs": [
    {
     "name": "stdout",
     "output_type": "stream",
     "text": [
      "La lista de 'dos_euros' contiene: []\n",
      "-------------------------------\n",
      "La lista de 'dos_euros' DESPUÉS DEL BUCLE FOR contiene: ['Arroz', 'Pan']\n",
      "-------------------------------\n"
     ]
    }
   ],
   "source": [
    "\n",
    "dos_euros = [] # lo primero que hacemos es crearnos una lista donde almacenaremos los resultado\n",
    "print(\"La lista de 'dos_euros' contiene:\", dos_euros)\n",
    "print(\"-------------------------------\")\n",
    "\n",
    "\n",
    "\n",
    "for k, v in diccionario_compra.items(): # empezamos a iterar por nuestro diccionario de la lista de la compra:\n",
    "\n",
    "   if diccionario_compra[k] < 2:        \n",
    "        dos_euros.append(k)  # en caso de que la condición se cumpla, añadiremos la key a nuestra lista dos_euros\n",
    "        \n",
    "print(\"La lista de 'dos_euros' DESPUÉS DEL BUCLE FOR contiene:\", dos_euros)\n",
    "print(\"-------------------------------\")\n"
   ]
  },
  {
   "cell_type": "code",
   "execution_count": 47,
   "metadata": {},
   "outputs": [
    {
     "name": "stdout",
     "output_type": "stream",
     "text": [
      "Los numeros generados por el 'range' son: range(0, 3)\n",
      "------------------------------\n",
      "0\n",
      "1\n",
      "2\n",
      "0\n",
      "2\n",
      "4\n",
      "6\n",
      "8\n"
     ]
    }
   ],
   "source": [
    "# Métodos interesantes para los for loops\n",
    "##Range\n",
    "\n",
    "\n",
    "numeros = range(0, 3) ## usemos el método range para generar números del 0 al 2. \n",
    "print(\"Los numeros generados por el 'range' son:\", numeros)\n",
    "print(\"------------------------------\")\n",
    "for x in range(3): # recordemos que no poner el 0 y ponerlo es lo mismo ya que por defecto empieza en 0\n",
    "    print(x)     # printemos cada uno de los elementos del objeto range\n",
    "\n",
    "\n",
    "# si queremos que se nos genere un secuencia de números del 0 al 10, con saltos de 2 podríamos hacer lo siguiente:\n",
    "for x in range(0,10,2):\n",
    "    print(x)"
   ]
  },
  {
   "cell_type": "code",
   "execution_count": 48,
   "metadata": {},
   "outputs": [
    {
     "name": "stdout",
     "output_type": "stream",
     "text": [
      "La lista con los cuadrados de los números contiene: []\n",
      "--------------------------------\n",
      "La lista DESPUÉS DEL BUCLE FOR contiene, notad como solo hemos mostrado los primeros elementos para simplificar el output: [0, 1, 4, 9, 16, 25, 36, 49, 64, 81, 100, 121, 144, 169, 196, 225, 256, 289, 324, 361]\n",
      "La lista contiene, notad como solo hemos mostrado los primeros elementos para simplificar el output: [0, 1, 4, 9, 16, 25, 36, 49, 64, 81, 100, 121, 144, 169, 196, 225, 256, 289, 324, 361]\n"
     ]
    }
   ],
   "source": [
    "## *List comprehension* con bucles for\n",
    " \n",
    "\n",
    "cuadrado = [] # creamos una lista vacía donde iremos añadiendo cada nuevo valor\n",
    "print(\"La lista con los cuadrados de los números contiene:\", cuadrado)\n",
    "print(\"--------------------------------\")\n",
    "\n",
    "\n",
    "for num in range(5000000): # iniciamos nuestro for sobre la lista de números que crearemos con un for: \n",
    "    \n",
    "    cuadrado.append(num ** 2) # apendeamos a la lista nueva \"cuadrado\" los valores por los que vamos iterando elevados al cuadrado\n",
    "\n",
    "print(\"La lista DESPUÉS DEL BUCLE FOR contiene, notad como solo hemos mostrado los primeros elementos para simplificar el output:\", cuadrado[:20])\n",
    "\n",
    "# con una list comprehension\n",
    "cuadrado2 = [num ** 2 for num in range(5000000)]\n",
    "\n",
    "# veamos el contenido de la lista cuadrado2\n",
    "print(\"La lista contiene, notad como solo hemos mostrado los primeros elementos para simplificar el output:\", cuadrado2[:20])"
   ]
  },
  {
   "cell_type": "code",
   "execution_count": 49,
   "metadata": {},
   "outputs": [
    {
     "name": "stdout",
     "output_type": "stream",
     "text": [
      "La lista 'palabras' contiene: ['adalab', 'python', 'data analysts', 'sql', 'programadoras']\n",
      "----------------------\n",
      "La lista con las longitudes de cada palabra antes del bucle contiene: []\n",
      "----------------------\n",
      "La lista con las longitudes de cada palabra DESPUÉS del bucle contiene: [6, 6, 13, 3, 13]\n",
      "----------------------\n",
      "La lista con las longitudes de cada palabra DESPUÉS del bucle contiene [6, 6, 13, 3, 13]\n"
     ]
    }
   ],
   "source": [
    "\n",
    "\n",
    "palabras = [\"adalab\", \"python\", \"data analysts\", \"sql\", \"programadoras\"] # lo primero que hacemos es definir la lista de palabras\n",
    "print(\"La lista 'palabras' contiene:\", palabras)\n",
    "print(\"----------------------\")\n",
    "\n",
    "# hagámoslo con un for loop tradicional\n",
    "\n",
    "\n",
    "palabras_len = [] # primero definimos la lista vacía donde apendearemos las longitudes de las palabras\n",
    "print(\"La lista con las longitudes de cada palabra antes del bucle contiene:\", palabras_len)\n",
    "\n",
    "# inicimos nuestro for\n",
    "for palabra in palabras:\n",
    "\n",
    "    # apendeamnos en la lista vacía las longitudes de cada una de las palabras de nuestra lista\n",
    "    palabras_len.append(len(palabra))\n",
    "print(\"----------------------\")\n",
    "print(\"La lista con las longitudes de cada palabra DESPUÉS del bucle contiene:\", palabras_len)\n",
    "\n",
    "print(\"----------------------\")\n",
    "\n",
    "# hagamoslo ahora con una list comprehension\n",
    "\n",
    "palabras_len2 = [len(pal) for pal in palabras]\n",
    "\n",
    "\n",
    "print(\"La lista con las longitudes de cada palabra DESPUÉS del bucle contiene\", palabras_len2) # vemos el contenido de palabras_len2\n",
    "\n"
   ]
  },
  {
   "cell_type": "code",
   "execution_count": 50,
   "metadata": {},
   "outputs": [
    {
     "name": "stdout",
     "output_type": "stream",
     "text": [
      "La lista 'palabras' contiene: ['adalab', 'python', 'data analysts', 'sql', 'programadoras']\n",
      "----------------------\n",
      "La lista 'palabras_class' contiene: ['palabra corta', 'palabra corta', 'palabra larga', 'palabra corta', 'palabra larga']\n"
     ]
    }
   ],
   "source": [
    "## *List comprehension* con `if`... `else`\n",
    "\n",
    "# veamos como hacerlo con un for loop normal\n",
    "print(\"La lista 'palabras' contiene:\", palabras)\n",
    "print(\"----------------------\")\n",
    "\n",
    "# definimos la lista vacía dnode apendearemos los resultados\n",
    "palabras_clas = []\n",
    "\n",
    "# iniciamos el for loop\n",
    "for i in palabras: \n",
    "\n",
    "    # establecemos la primera condición. Que la longitud de la palabra sea menor o igual que 6\n",
    "    if len(i) <= 6:\n",
    "\n",
    "        # apendeamos \"palabra corta\" a la lista vacía\n",
    "        palabras_clas.append(\"palabra corta\")\n",
    "\n",
    "    # en caso de que no se cumpla esa condición\n",
    "    else: \n",
    "\n",
    "        # apendearemos \"palabra larga\" a la lista vacía\n",
    "        palabras_clas.append(\"palabra larga\")\n",
    "print(\"La lista 'palabras_class' contiene:\", palabras_clas)"
   ]
  },
  {
   "cell_type": "code",
   "execution_count": 51,
   "metadata": {},
   "outputs": [
    {
     "name": "stdout",
     "output_type": "stream",
     "text": [
      "La lista 'palabras_class2' contiene: ['palabra corta', 'palabra corta', 'palabra larga', 'palabra corta', 'palabra larga']\n"
     ]
    }
   ],
   "source": [
    "# como lo haríamos con una list comprehension?\n",
    "\n",
    "palabras_clas2 = [\"palabra corta\" if len(i) <= 6 else \"palabra larga\" for i in palabras  ]\n",
    "print(\"La lista 'palabras_class2' contiene:\", palabras_clas2)"
   ]
  },
  {
   "cell_type": "code",
   "execution_count": 52,
   "metadata": {},
   "outputs": [
    {
     "name": "stdout",
     "output_type": "stream",
     "text": [
      "La lista de listas contiene: [[1, 2, 3], [4, 5, 6], [7, 8, 9]]\n",
      "----------------------------------\n",
      "La lista donde almacenaremos los resultados contiene: []\n",
      "----------------------------------\n",
      "[1, 2, 3]\n",
      "...................\n",
      "1\n",
      "...................\n",
      "2\n",
      "...................\n",
      "3\n",
      "...................\n",
      "[4, 5, 6]\n",
      "...................\n",
      "4\n",
      "...................\n",
      "5\n",
      "...................\n",
      "6\n",
      "...................\n",
      "[7, 8, 9]\n",
      "...................\n",
      "7\n",
      "...................\n",
      "8\n",
      "...................\n",
      "9\n",
      "...................\n",
      "La lista donde almacenaremos los resultados DESPUÉS DE LOS DOS FOR LOOP contiene: [1, 2, 3, 4, 5, 6, 7, 8, 9]\n",
      "La lista donde almacenaremos los resultados DESPUÉS DE LA LIST COMPREHENSION contiene: [1, 2, 3, 4, 5, 6, 7, 8, 9]\n"
     ]
    }
   ],
   "source": [
    "## *List comprehension* con dos `for`\n",
    "\n",
    "# lo primero que hacemos es definir una lista de listas\n",
    "listas = [[1,2,3], [4,5,6], [7,8,9]]\n",
    "print(\"La lista de listas contiene:\", listas)\n",
    "print(\"----------------------------------\")\n",
    "\n",
    "\n",
    "\n",
    "lista_aplanada = [] # primero definimos la lista vacía donde iremos añadiendo los números de nuestra lista de listas\n",
    "print(\"La lista donde almacenaremos los resultados contiene:\", lista_aplanada)\n",
    "print(\"----------------------------------\")\n",
    "\n",
    "\n",
    "\n",
    "for sublista in listas :  # iniciamos el for loop\n",
    "\n",
    "    # nuestro primero elemento interable será cada una de las listas de la lista grande. Esto, todavía no nos esta permitiendo acceder a cada uno de los números, por lo que tenemos que volver a iterar por cada una de las sublistas\n",
    "    print(sublista)\n",
    "    print(\"...................\")\n",
    "\n",
    "    \n",
    "    for num in sublista: # iteramos por cada sublista para acceder a cada uno de los números.\n",
    "\n",
    "        \n",
    "        print(num) # ahora num será cada elemento de cada sublista, es decir, cada número.  \n",
    "        print(\"...................\")\n",
    "\n",
    "\n",
    "       \n",
    "\n",
    "        lista_aplanada.append(num)  # es en este punto, donde ya hemos accedido a cada número donde lo apendearemos a la lista vacía\n",
    " \n",
    "print(\"La lista donde almacenaremos los resultados DESPUÉS DE LOS DOS FOR LOOP contiene:\", lista_aplanada)\n",
    "       \n",
    "# ¿Cómo haremos esto con una list comprehension? \n",
    "lista_aplanada2 = [num for sublista in listas for num in sublista]\n",
    "print(\"La lista donde almacenaremos los resultados DESPUÉS DE LA LIST COMPREHENSION contiene:\", lista_aplanada2)"
   ]
  }
 ],
 "metadata": {
  "kernelspec": {
   "display_name": "Python 3",
   "language": "python",
   "name": "python3"
  },
  "language_info": {
   "codemirror_mode": {
    "name": "ipython",
    "version": 3
   },
   "file_extension": ".py",
   "mimetype": "text/x-python",
   "name": "python",
   "nbconvert_exporter": "python",
   "pygments_lexer": "ipython3",
   "version": "3.10.9"
  }
 },
 "nbformat": 4,
 "nbformat_minor": 2
}
