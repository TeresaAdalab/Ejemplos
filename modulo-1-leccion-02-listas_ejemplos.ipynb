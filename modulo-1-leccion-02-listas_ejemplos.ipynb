{
 "cells": [
  {
   "cell_type": "code",
   "execution_count": 32,
   "metadata": {},
   "outputs": [
    {
     "name": "stdout",
     "output_type": "stream",
     "text": [
      "['Lola', 'Laura', 'Marta']\n"
     ]
    }
   ],
   "source": [
    "# crear una lista que contenga varios elementos y una lista vacia de apellidos\n",
    "lista_nombres = [\"Lola\", \"Laura\", \"Marta\"]\n",
    "lista_apellidos = []\n",
    "print(lista_nombres)"
   ]
  },
  {
   "cell_type": "code",
   "execution_count": 33,
   "metadata": {},
   "outputs": [
    {
     "name": "stdout",
     "output_type": "stream",
     "text": [
      "<class 'list'>\n"
     ]
    },
    {
     "data": {
      "text/plain": [
       "True"
      ]
     },
     "execution_count": 33,
     "metadata": {},
     "output_type": "execute_result"
    }
   ],
   "source": [
    "# definimos una lista con un único valor que es un string\n",
    "lista_de_compra = ['peras']\n",
    "print(type(lista_de_compra))\n",
    "# creemos ahora una lista con un único valor, que sea un integer\n",
    "notas_biologia_este_año = [7]\n",
    "isinstance(notas_biologia_este_año,list)"
   ]
  },
  {
   "cell_type": "code",
   "execution_count": 34,
   "metadata": {},
   "outputs": [
    {
     "name": "stdout",
     "output_type": "stream",
     "text": [
      "[]\n"
     ]
    }
   ],
   "source": [
    "#  lista vacía donde iremos almacenando\n",
    "notas_biologia_primer_examen = []\n",
    "print(notas_biologia_primer_examen)"
   ]
  },
  {
   "cell_type": "code",
   "execution_count": 35,
   "metadata": {},
   "outputs": [],
   "source": [
    "# definimos las tres variables \n",
    "nota_lola = 8\n",
    "nota_marta = 7.5\n",
    "nota_rocio = 4"
   ]
  },
  {
   "cell_type": "code",
   "execution_count": 36,
   "metadata": {},
   "outputs": [
    {
     "name": "stdout",
     "output_type": "stream",
     "text": [
      "[8, 7.5, 4]\n"
     ]
    }
   ],
   "source": [
    "notas_biologia_primer_examen = [nota_lola, nota_marta, nota_rocio]\n",
    "print(notas_biologia_primer_examen)"
   ]
  },
  {
   "cell_type": "code",
   "execution_count": 37,
   "metadata": {},
   "outputs": [
    {
     "name": "stdout",
     "output_type": "stream",
     "text": [
      "[[8, 7.5, 4], [8.3, 6.7, 9.0, 7.5, 5.8, 6.8, 9.0, 6.8]]\n"
     ]
    }
   ],
   "source": [
    "notas_biologia_primer_examen_profe2 = [8.3, 6.7, 9.0, 7.5, 5.8, 6.8, 9.0, 6.8]\n",
    "todas_notas_biologia_primer_examen = [notas_biologia_primer_examen, notas_biologia_primer_examen_profe2]\n",
    "print(todas_notas_biologia_primer_examen)"
   ]
  },
  {
   "cell_type": "code",
   "execution_count": 38,
   "metadata": {},
   "outputs": [
    {
     "data": {
      "text/plain": [
       "['A', 'D', 'B', 'A', 'F', 6.0, 7.1, 6.8, 8.2, 6.8]"
      ]
     },
     "execution_count": 38,
     "metadata": {},
     "output_type": "execute_result"
    }
   ],
   "source": [
    "# definimos una nueva lista que va a contener strings y números\n",
    "notas_biologia_segundo_examen = ['A', 'D', 'B', 'A', \"F\", 6.0, 7.1, 6.8, 8.2, 6.8]\n",
    "notas_biologia_segundo_examen"
   ]
  },
  {
   "cell_type": "code",
   "execution_count": 39,
   "metadata": {},
   "outputs": [
    {
     "name": "stdout",
     "output_type": "stream",
     "text": [
      "[[[8, 7.5, 4], [8.3, 6.7, 9.0, 7.5, 5.8, 6.8, 9.0, 6.8]], ['A', 'D', 'B', 'A', 'F', 6.0, 7.1, 6.8, 8.2, 6.8]]\n"
     ]
    }
   ],
   "source": [
    "# juntamos las tres listas\n",
    "notas_biologia = [todas_notas_biologia_primer_examen, notas_biologia_segundo_examen]\n",
    "print(notas_biologia)"
   ]
  },
  {
   "cell_type": "code",
   "execution_count": 40,
   "metadata": {},
   "outputs": [
    {
     "name": "stdout",
     "output_type": "stream",
     "text": [
      "[8, 7.5, 4, 8.3, 6.7, 9.0, 7.5, 5.8, 6.8, 9.0, 6.8, 'A', 'D', 'B', 'A', 'F', 6.0, 7.1, 6.8, 8.2, 6.8]\n"
     ]
    }
   ],
   "source": [
    "# juntamos las tres listas usando el operador + \n",
    "notas_biologia2 = notas_biologia_primer_examen + notas_biologia_primer_examen_profe2 + notas_biologia_segundo_examen\n",
    "print(notas_biologia2)"
   ]
  },
  {
   "cell_type": "code",
   "execution_count": 41,
   "metadata": {},
   "outputs": [
    {
     "data": {
      "text/plain": [
       "['L', 'o', 'v', 'e', 'l', 'a', 'c', 'e']"
      ]
     },
     "execution_count": 41,
     "metadata": {},
     "output_type": "execute_result"
    }
   ],
   "source": [
    "# definimos una variable de tipo string\n",
    "apellido = 'Lovelace'\n",
    "\n",
    "# la convertimos a lista\n",
    "list(apellido)"
   ]
  },
  {
   "cell_type": "code",
   "execution_count": 42,
   "metadata": {},
   "outputs": [
    {
     "data": {
      "text/plain": [
       "['L', 'o', 'v', 'e', 'l', 'a', 'c', 'e']"
      ]
     },
     "execution_count": 42,
     "metadata": {},
     "output_type": "execute_result"
    }
   ],
   "source": [
    "apellido2 = list(apellido)\n",
    "apellido2"
   ]
  },
  {
   "cell_type": "code",
   "execution_count": 43,
   "metadata": {},
   "outputs": [
    {
     "name": "stdout",
     "output_type": "stream",
     "text": [
      "Lista de pasos: [15413, 15855, 22399, 19988, 12709, 19138, 22951, 22322, 24454, 28931, 16609, 18277, 12261, 25552, 11730, 17414, 14479, 26870, 16749, 21189, 19111, 16711, 15188, 16891, 19333, 29310, 11159, 24780, 16162, 27243, 25509, 12093, 27936, 26384, 21533, 10279, 21935, 14639, 25367, 14355, 20347, 10813, 24580, 10046, 18483, 10346, 16868, 24809, 17471, 27576, 12517, 25732, 14591, 11987, 17810, 20176, 16391, 16024, 16048, 28676, 25335, 24034, 15485, 18399, 17836, 14875, 27566, 18089, 23797, 22918, 14073, 29187, 12087, 19085, 17569, 18140, 17459, 28245, 15109, 16016, 28216, 28022, 25157, 18087, 16358, 14994, 10962, 19821, 21092, 12134, 12009, 22892, 24083, 11765, 21264, 28741, 14182, 13915, 12436, 10187, 11471, 10577, 11485, 11433, 11658, 20848, 17796, 22679, 23067, 21890, 28220, 29285, 16309, 29817, 28804, 11005, 15401, 23702, 16786, 14896, 24178, 10373, 16763, 22812, 28614, 26935, 25784, 11107, 25799, 17822, 12292, 11369, 14136, 16532, 24141, 29349, 16447, 10077, 15471, 20883, 29682, 28964, 18774, 27953, 21658, 21828, 11803, 15622, 15064, 21091, 14322, 13228, 28119, 27390, 21449, 27791, 21033, 20343, 20624, 23884, 11718, 21409, 18171, 18300, 29974, 12643, 22086, 20843, 10437, 21713, 25663, 17602, 15319, 28865, 26728, 17051, 26404, 23716, 27192, 17778, 25141, 11897, 10691, 24129, 21320, 18542, 21270, 12789, 25850, 20380, 14328, 21286, 28167, 29278, 22621, 14658, 20507, 24664, 23576, 17824, 24224, 25997, 16528, 14958, 27292, 25185, 29302, 16500, 15896, 22053, 14121, 25440, 25696, 21035, 21016, 10251, 22260, 12858, 20643, 22233, 27120, 28756, 21280, 21858, 16179, 18970, 23784, 20594, 11523, 17052, 12248, 23102, 29652, 20581, 22300, 10141, 10804, 21182, 21917, 18006, 23043, 19801, 23799, 12779, 22009, 12428, 13167, 11087, 12019, 13030, 23132, 24114, 11621, 15943, 14911, 18857, 25109, 15980, 15324, 12708, 25638, 26344, 21300, 21780, 26383, 23641, 13083, 18088, 12258, 16420, 15178, 21808, 18541, 18323, 19952, 28899, 24621, 14852, 28315, 11183, 20733, 29485, 27289, 14919, 16103, 13592, 18814, 12244, 26812, 20472, 16635, 19761, 21187, 28498, 27037, 26134, 26325, 10239, 15529, 23709, 28892, 25489, 27935, 20024, 22262, 16285, 18170, 19127, 24562, 25679, 29445, 18534, 12315, 20296, 21402, 18490, 21050, 12527, 10716, 28409, 16710, 10650, 28504, 11451, 12253, 12896, 12195, 20017, 18136, 21939, 24418, 17189, 26919, 28040, 15253, 28981, 29642, 15128, 27981, 19670, 20169, 28455, 18773, 25855, 27110, 25800, 29737, 26784, 26341, 24567, 19608, 26170, 16374, 12422, 20258, 26122, 19105, 29678, 15851, 27466, 26650, 24711, 19865, 25322, 11362]\n"
     ]
    }
   ],
   "source": [
    "# Propiedades de una lista\n",
    "lista_pasos = [15413, 15855, 22399, 19988, 12709, 19138, 22951, 22322, 24454, 28931, 16609, 18277, 12261, 25552, 11730, \n",
    "                17414, 14479, 26870, 16749, 21189, 19111, 16711, 15188, 16891, 19333, 29310, 11159, 24780, 16162, 27243, \n",
    "                25509, 12093, 27936, 26384, 21533, 10279, 21935, 14639, 25367, 14355, 20347, 10813, 24580, 10046, 18483, \n",
    "                10346, 16868, 24809, 17471, 27576, 12517, 25732, 14591, 11987, 17810, 20176, 16391, 16024, 16048, 28676, \n",
    "                25335, 24034, 15485, 18399, 17836, 14875, 27566, 18089, 23797, 22918, 14073, 29187, 12087, 19085, 17569,\n",
    "                 18140, 17459, 28245, 15109, 16016, 28216, 28022, 25157, 18087, 16358, 14994, 10962, 19821, 21092, 12134, \n",
    "                 12009, 22892, 24083, 11765, 21264, 28741, 14182, 13915, 12436, 10187, 11471, 10577, 11485, 11433, 11658, \n",
    "                 20848, 17796, 22679, 23067, 21890, 28220, 29285, 16309, 29817, 28804, 11005, 15401, 23702, 16786, 14896, \n",
    "                 24178, 10373, 16763, 22812, 28614, 26935, 25784, 11107, 25799, 17822, 12292, 11369, 14136, 16532, 24141,\n",
    "                  29349, 16447, 10077, 15471, 20883, 29682, 28964, 18774, 27953, 21658, 21828, 11803, 15622, 15064, 21091, \n",
    "                  14322, 13228, 28119, 27390, 21449, 27791, 21033, 20343, 20624, 23884, 11718, 21409, 18171, 18300, 29974, \n",
    "                  12643, 22086, 20843, 10437, 21713, 25663, 17602, 15319, 28865, 26728, 17051, 26404, 23716, 27192, 17778, \n",
    "                  25141, 11897, 10691, 24129, 21320, 18542, 21270, 12789, 25850, 20380, 14328, 21286, 28167, 29278, 22621, \n",
    "                  14658, 20507, 24664, 23576, 17824, 24224, 25997, 16528, 14958, 27292, 25185, 29302, 16500, 15896, 22053, \n",
    "                  14121, 25440, 25696, 21035, 21016, 10251, 22260, 12858, 20643, 22233, 27120, 28756, 21280, 21858, 16179, \n",
    "                  18970, 23784, 20594, 11523, 17052, 12248, 23102, 29652, 20581, 22300, 10141, 10804, 21182, 21917, 18006, \n",
    "                  23043, 19801, 23799, 12779, 22009, 12428, 13167, 11087, 12019, 13030, 23132, 24114, 11621, 15943, 14911, \n",
    "                  18857, 25109, 15980, 15324, 12708, 25638, 26344, 21300, 21780, 26383, 23641, 13083, 18088, 12258, 16420, \n",
    "                  15178, 21808, 18541, 18323, 19952, 28899, 24621, 14852, 28315, 11183, 20733, 29485, 27289, 14919, 16103, \n",
    "                  13592, 18814, 12244, 26812, 20472, 16635, 19761, 21187, 28498, 27037, 26134, 26325, 10239, 15529, 23709, \n",
    "                  28892, 25489, 27935, 20024, 22262, 16285, 18170, 19127, 24562, 25679, 29445, 18534, 12315, 20296, 21402, \n",
    "                  18490, 21050, 12527, 10716, 28409, 16710, 10650, 28504, 11451, 12253, 12896, 12195, 20017, 18136, 21939, \n",
    "                  24418, 17189, 26919, 28040, 15253, 28981, 29642, 15128, 27981, 19670, 20169, 28455, 18773, 25855, 27110, \n",
    "                  25800, 29737, 26784, 26341, 24567, 19608, 26170, 16374, 12422, 20258, 26122, 19105, 29678, 15851, 27466, \n",
    "                  26650, 24711, 19865, 25322, 11362]\n",
    "                  \n",
    "print(\"Lista de pasos:\", lista_pasos)"
   ]
  },
  {
   "cell_type": "code",
   "execution_count": 44,
   "metadata": {},
   "outputs": [
    {
     "name": "stdout",
     "output_type": "stream",
     "text": [
      "El número de datos que tenemos en la lista es: 365\n"
     ]
    }
   ],
   "source": [
    "# len\n",
    "cantidad_de_pasos = len(lista_pasos)\n",
    "print(\"El número de datos que tenemos en la lista es:\",  cantidad_de_pasos)"
   ]
  },
  {
   "cell_type": "code",
   "execution_count": 45,
   "metadata": {},
   "outputs": [
    {
     "name": "stdout",
     "output_type": "stream",
     "text": [
      "La cantidad mínima de pasos fue: 10046\n",
      "La cantidad máxima de pasos fue: 29974\n"
     ]
    }
   ],
   "source": [
    "# min y max\n",
    "minima = min(lista_pasos)\n",
    "maxima = max(lista_pasos)\n",
    "print(\"La cantidad mínima de pasos fue:\", minima)\n",
    "print(\"La cantidad máxima de pasos fue:\", maxima)"
   ]
  },
  {
   "cell_type": "code",
   "execution_count": 46,
   "metadata": {},
   "outputs": [
    {
     "name": "stdout",
     "output_type": "stream",
     "text": [
      "El valor mínimo es: Adalaber\n",
      "El valor máximo es: Hola\n"
     ]
    }
   ],
   "source": [
    "# string\n",
    "mi_lista = [\"Hola\", \"Adalaber\"]\n",
    "\n",
    "print(\"El valor mínimo es:\", min(mi_lista))\n",
    "print(\"El valor máximo es:\", max(mi_lista))"
   ]
  },
  {
   "cell_type": "code",
   "execution_count": 47,
   "metadata": {},
   "outputs": [
    {
     "name": "stdout",
     "output_type": "stream",
     "text": [
      "¿Hemos dado algún día 20,000 pasos?\n",
      "False\n",
      "\n",
      "--------------------\n",
      "\n",
      "¿Hemos dado algún día 22,399 pasos?\n",
      "True\n",
      "\n",
      "--------------------\n",
      "\n"
     ]
    }
   ],
   "source": [
    "# in\n",
    "print(\"¿Hemos dado algún día 20,000 pasos?\")\n",
    "print(20000 in lista_pasos)\n",
    "\n",
    "print(\"\\n--------------------\\n\")\n",
    "\n",
    "print(\"¿Hemos dado algún día 22,399 pasos?\")\n",
    "print(22399 in lista_pasos)\n",
    "\n",
    "print(\"\\n--------------------\\n\")"
   ]
  },
  {
   "cell_type": "code",
   "execution_count": 48,
   "metadata": {},
   "outputs": [
    {
     "name": "stdout",
     "output_type": "stream",
     "text": [
      "Sacamos los dos primeros elementos: [0: 2] = ['A', 'B']\n",
      "Que es exactamente lo mismo que: [: 2] = ['A', 'B']\n",
      "Usando índice negativos sería: [:-7] = ['A', 'B']\n",
      "Sacamos el segundo y tercer elemento: [1: 3] = ['B', 'C']\n",
      "Sacamos todos los elementos de la lista menos el primero: [1: ] = ['B', 'C', 'D', 'E', 'F', 'G', 'H', 'I']\n",
      "Sacamos los dos últimos elementos: [-2:] = ['H', 'I']\n"
     ]
    }
   ],
   "source": [
    "# creamos una lista de letras\n",
    "letras = ['A', 'B', 'C', 'D', \"E\", \"F\", \"G\", \"H\", \"I\"]\n",
    "letras\n",
    "print('Sacamos los dos primeros elementos: [0: 2] =',letras[0:2])\n",
    "print('Que es exactamente lo mismo que: [: 2] =',letras[:2])\n",
    "print('Usando índice negativos sería: [:-7] =',letras[:-7])\n",
    "print('Sacamos el segundo y tercer elemento: [1: 3] =',letras[1:3])\n",
    "print('Sacamos todos los elementos de la lista menos el primero: [1: ] =',letras[1:])\n",
    "print('Sacamos los dos últimos elementos: [-2:] =',letras[-2:])"
   ]
  },
  {
   "cell_type": "code",
   "execution_count": 49,
   "metadata": {},
   "outputs": [
    {
     "name": "stdout",
     "output_type": "stream",
     "text": [
      "Sacamos todos los elementos de la lista daltando los que están en posiciones pares: [::2] = ['A', 'C', 'E', 'G', 'I']\n",
      "Sacamos todos los elementos de la lista daltando los que están en posiciones impares: [1::2] = ['B', 'D', 'F', 'H']\n",
      "Sacamos elementos de tres en tres del principio al final: [::3] = ['A', 'D', 'G']\n",
      "Sacamos del primer al séptimo elemento de dos en dos [:8:2] = ['A', 'C', 'E', 'G']\n",
      "\n",
      "--------------------\n",
      "\n",
      "La lista de letras es: ['A', 'B', 'C', 'D', 'E', 'F', 'G', 'H', 'I']\n",
      "¿En que posición esta la letra 'D'? Esta en el índice 3\n",
      "¿En que posición esta la letra 'H'? Esta en el índice 7\n",
      "¿En que posición esta la letra 'G'? Esta en el índice 6\n"
     ]
    }
   ],
   "source": [
    "#Start, Stop, step\n",
    "print('Sacamos todos los elementos de la lista daltando los que están en posiciones pares: [::2] =',letras[::2])\n",
    "print('Sacamos todos los elementos de la lista daltando los que están en posiciones impares: [1::2] =',letras[1::2])\n",
    "print('Sacamos elementos de tres en tres del principio al final: [::3] =',letras[::3])\n",
    "print('Sacamos del primer al séptimo elemento de dos en dos [:8:2] =',letras[:8:2])\n",
    "print(\"\\n--------------------\\n\")\n",
    "print(\"La lista de letras es:\", letras)\n",
    "print(\"¿En que posición esta la letra 'D'? Esta en el índice\", letras.index(\"D\"))\n",
    "print(\"¿En que posición esta la letra 'H'? Esta en el índice\", letras.index(\"H\"))\n",
    "print(\"¿En que posición esta la letra 'G'? Esta en el índice\", letras.index(\"G\"))"
   ]
  },
  {
   "cell_type": "code",
   "execution_count": 50,
   "metadata": {},
   "outputs": [
    {
     "name": "stdout",
     "output_type": "stream",
     "text": [
      "La lista original de notas es:     [8, 7.5, 4, 8.3, 6.7, 9.0, 7.5, 5.8, 6.8, 9.0, 6.8, 'A', 'D', 'B', 'A', 'F', 6.0, 7.1, 6.8, 8.2, 6.8]\n",
      "La copia de la lista de notas es:  [8, 7.5, 4, 8.3, 6.7, 9.0, 7.5, 5.8, 6.8, 9.0, 6.8, 'A', 'D', 'B', 'A', 'F', 6.0, 7.1, 6.8, 8.2, 6.8]\n"
     ]
    }
   ],
   "source": [
    "#Metodos Listas\n",
    "##Copy\n",
    "bio = notas_biologia2.copy()\n",
    "\n",
    "print(\"La lista original de notas es:    \", notas_biologia2)\n",
    "print(\"La copia de la lista de notas es: \", bio)"
   ]
  },
  {
   "cell_type": "code",
   "execution_count": 51,
   "metadata": {},
   "outputs": [
    {
     "name": "stdout",
     "output_type": "stream",
     "text": [
      "La lista antes de usar el método copy contiene: [8, 7.5, 4, 8.3, 6.7, 9.0, 7.5, 5.8, 6.8, 9.0, 6.8, 'A', 'D', 'B', 'A', 'F', 6.0, 7.1, 6.8, 8.2, 6.8]\n",
      "La lista después de usar el método copy contiene: []\n"
     ]
    }
   ],
   "source": [
    "##Clear\n",
    "\n",
    "print(\"La lista antes de usar el método copy contiene:\", bio)\n",
    "\n",
    "# aplicamos el método copy\n",
    "bio.clear()\n",
    "\n",
    "print(\"La lista después de usar el método copy contiene:\", bio)\n"
   ]
  },
  {
   "cell_type": "code",
   "execution_count": 52,
   "metadata": {},
   "outputs": [
    {
     "name": "stdout",
     "output_type": "stream",
     "text": [
      "Las notas de biología antes de eliminar elementos es:  [8, 7.5, 4, 8.3, 6.7, 9.0, 7.5, 5.8, 6.8, 9.0, 6.8, 'A', 'D', 'B', 'A', 'F', 6.0, 7.1, 6.8, 8.2, 6.8]\n",
      "Las notas de biología después de eliminar elementos es:  [8, 7.5, 4, 8.3, 6.7, 9.0, 7.5, 5.8, 6.8, 9.0, 6.8, 'A', 'D', 'B', 'A', 6.0, 7.1, 6.8, 8.2, 6.8]\n",
      "Las notas de biología antes de eliminar elementos es:  [8, 7.5, 4, 8.3, 6.7, 9.0, 7.5, 5.8, 6.8, 9.0, 6.8, 'A', 'D', 'B', 'A', 6.0, 7.1, 6.8, 8.2, 6.8]\n",
      "Las notas de biología después de eliminar elementos es:  [8, 7.5, 4, 8.3, 6.7, 9.0, 7.5, 5.8, 6.8, 9.0, 6.8, 'D', 'B', 'A', 6.0, 7.1, 6.8, 8.2, 6.8]\n"
     ]
    }
   ],
   "source": [
    "##Remove\n",
    "\n",
    "bio2 = notas_biologia2.copy()\n",
    "\n",
    "print(\"Las notas de biología antes de eliminar elementos es: \", bio2)\n",
    "\n",
    "\n",
    "bio2.remove(\"F\")\n",
    "print(\"Las notas de biología después de eliminar elementos es: \", bio2)\n",
    "\n",
    "\n",
    "print(\"Las notas de biología antes de eliminar elementos es: \", bio2)\n",
    "\n",
    "# eliminamos la \"F\" de nuestra lista\n",
    "bio2.remove(\"A\")\n",
    "print(\"Las notas de biología después de eliminar elementos es: \", bio2)"
   ]
  },
  {
   "cell_type": "code",
   "execution_count": 53,
   "metadata": {},
   "outputs": [
    {
     "name": "stdout",
     "output_type": "stream",
     "text": [
      "Las notas de biología antes de eliminar elementos es:  [8, 7.5, 4, 8.3, 6.7, 9.0, 7.5, 5.8, 6.8, 9.0, 6.8, 'A', 'D', 'B', 'A', 'F', 6.0, 7.1, 6.8, 8.2, 6.8]\n",
      "La F está en posición 15\n",
      "Las notas de biología después de eliminar elementos es:  [8, 7.5, 4, 8.3, 6.7, 9.0, 7.5, 5.8, 6.8, 9.0, 6.8, 'A', 'D', 'B', 'A', 6.0, 7.1, 6.8, 8.2, 6.8]\n"
     ]
    },
    {
     "data": {
      "text/plain": [
       "'B'"
      ]
     },
     "execution_count": 53,
     "metadata": {},
     "output_type": "execute_result"
    }
   ],
   "source": [
    "# nos hacemos una copia de notas_biologia2\n",
    "bio3 = notas_biologia2.copy()\n",
    "\n",
    "print(\"Las notas de biología antes de eliminar elementos es: \", bio3)\n",
    "\n",
    "# como funciona con los índices, y hemos aprendido en esta lección un método que nos permite saber el índice de un elemento, usemoslo. En este caso, queremos empezar eliminando la \"F\"\n",
    "indice_f = bio3.index(\"F\")\n",
    "print(\"La F está en posición\", indice_f)\n",
    "\n",
    "#eliminamos el elemento que está en posición 15 (por que la \"F\" está en posición 15)\n",
    "bio3.pop(indice_f)\n",
    "print(\"Las notas de biología después de eliminar elementos es: \", bio3)\n",
    "indice_b = bio3.index(\"B\")\n",
    "\n",
    "# eliminamos la letra \"B\" usando su índice\n",
    "bio3.pop(indice_b)"
   ]
  },
  {
   "cell_type": "code",
   "execution_count": 54,
   "metadata": {},
   "outputs": [
    {
     "name": "stdout",
     "output_type": "stream",
     "text": [
      "\n",
      "El número de alumnas que ha sacado 6.8 es:  4\n"
     ]
    }
   ],
   "source": [
    "##Count\n",
    "\n",
    "# ¿Cuántas veces aparece la nota 6.8 en nuestra lista de notas? \n",
    "\n",
    "print(\"\\nEl número de alumnas que ha sacado 6.8 es: \", notas_biologia2.count(6.8))"
   ]
  },
  {
   "cell_type": "code",
   "execution_count": 55,
   "metadata": {},
   "outputs": [
    {
     "name": "stdout",
     "output_type": "stream",
     "text": [
      "Las notas de biología del primer examen antes de aplicar el método reverse son:   [8, 7.5, 4, 8.3, 6.7, 9.0, 7.5, 5.8, 6.8, 9.0, 6.8, 'A', 'D', 'B', 'A', 'F', 6.0, 7.1, 6.8, 8.2, 6.8]\n",
      "Las notas de biología del primer examen después de aplicar el método reverse son: [6.8, 8.2, 6.8, 7.1, 6.0, 'F', 'A', 'B', 'D', 'A', 6.8, 9.0, 6.8, 5.8, 7.5, 9.0, 6.7, 8.3, 4, 7.5, 8]\n"
     ]
    }
   ],
   "source": [
    "## reverse\n",
    "\n",
    "biologia = notas_biologia2.copy()\n",
    "print(\"Las notas de biología del primer examen antes de aplicar el método reverse son:  \", biologia)\n",
    "\n",
    "# apliquemos el método reverse, que no nos devolverá nada\n",
    "biologia.reverse()\n",
    "\n",
    "print(\"Las notas de biología del primer examen después de aplicar el método reverse son:\", biologia)"
   ]
  },
  {
   "cell_type": "code",
   "execution_count": 56,
   "metadata": {},
   "outputs": [
    {
     "name": "stdout",
     "output_type": "stream",
     "text": [
      "Las notas de biología antes de ordenar la lista son: [6, 8, 9.1, 2, 4, 6, 8, 2.2, 7.7, 9.8, 5.6]\n",
      "Las notas de biología después de ordenar la lista de menor a mayor son: [2, 2.2, 4, 5.6, 6, 6, 7.7, 8, 8, 9.1, 9.8]\n"
     ]
    }
   ],
   "source": [
    "##sort\n",
    "notas_biologia3 = [6 ,8 ,9.1 ,2 ,4 ,6 ,8 ,2.2 ,7.7, 9.8, 5.6]\n",
    "\n",
    "print(\"Las notas de biología antes de ordenar la lista son:\", notas_biologia3)\n",
    "\n",
    "notas_biologia3.sort()\n",
    "\n",
    "print(\"Las notas de biología después de ordenar la lista de menor a mayor son:\", notas_biologia3)"
   ]
  },
  {
   "cell_type": "code",
   "execution_count": 57,
   "metadata": {},
   "outputs": [
    {
     "name": "stdout",
     "output_type": "stream",
     "text": [
      "Las notas de biología antes de ordenar la lista son: [6, 8, 9.1, 2, 4, 6, 8, 2.2, 7.7, 9.8, 5.6]\n",
      "Las notas de biología después de ordenar la lista de mayor a menor son: [9.8, 9.1, 8, 8, 7.7, 6, 6, 5.6, 4, 2.2, 2]\n"
     ]
    }
   ],
   "source": [
    "##reverse\n",
    "notas_biologia3 = [6 ,8 ,9.1 ,2 ,4 ,6 ,8 ,2.2 ,7.7, 9.8, 5.6]\n",
    "\n",
    "print(\"Las notas de biología antes de ordenar la lista son:\", notas_biologia3)\n",
    "\n",
    "notas_biologia3.sort(reverse=True)\n",
    "\n",
    "print(\"Las notas de biología después de ordenar la lista de mayor a menor son:\", notas_biologia3)"
   ]
  },
  {
   "cell_type": "code",
   "execution_count": 58,
   "metadata": {},
   "outputs": [
    {
     "name": "stdout",
     "output_type": "stream",
     "text": [
      "Las notas de biología antes de ordenar la lista son: [6, 8, 9.1, 2, 4, 6, 8, 2.2, 7.7, 9.8, 5.6]\n",
      "Las notas de biología después de ordenar la lista de menor a mayor son (sin almancenarlo en una variable): [6, 8, 9.1, 2, 4, 6, 8, 2.2, 7.7, 9.8, 5.6]\n",
      "Las notas de biología después de ordenar la lista de menor a mayor son (almacenandolo en una variable): [2, 2.2, 4, 5.6, 6, 6, 7.7, 8, 8, 9.1, 9.8]\n"
     ]
    }
   ],
   "source": [
    "#sorted\n",
    "notas_biologia3 = [6 ,8 ,9.1 ,2 ,4 ,6 ,8 ,2.2 ,7.7, 9.8, 5.6]\n",
    "\n",
    "print(\"Las notas de biología antes de ordenar la lista son:\", notas_biologia3)\n",
    "\n",
    "# aplicamos la función pero no lo almacenamos en ninguna variable\n",
    "sorted(notas_biologia3)\n",
    "\n",
    "# aplicamos la función pero en este caso lo almacenamos en una variable\n",
    "notas_biologia3_ordenadas = sorted(notas_biologia3)\n",
    "\n",
    "print(\"Las notas de biología después de ordenar la lista de menor a mayor son (sin almancenarlo en una variable):\", notas_biologia3)\n",
    "\n",
    "print(\"Las notas de biología después de ordenar la lista de menor a mayor son (almacenandolo en una variable):\", notas_biologia3_ordenadas)\n"
   ]
  },
  {
   "cell_type": "code",
   "execution_count": 59,
   "metadata": {},
   "outputs": [
    {
     "name": "stdout",
     "output_type": "stream",
     "text": [
      "La lista de la compra contiene  0 cosas con los siguientes elementos []\n",
      "La lista de la compra contiene  1 cosas con los siguientes elementos ['chocolate']\n",
      "La lista de la compra contiene  2 cosas con los siguientes elementos ['chocolate', 'frutos secos']\n"
     ]
    }
   ],
   "source": [
    "##append\n",
    "# lo primero que vamos a hacer es crearnos una lista de la compra vacía\n",
    "lista_compra = []\n",
    "\n",
    "print(\"La lista de la compra contiene \", len(lista_compra), \"cosas con los siguientes elementos\", lista_compra )\n",
    "\n",
    "\n",
    "\n",
    "lista_compra.append(\"chocolate\")\n",
    "print(\"La lista de la compra contiene \", len(lista_compra), \"cosas con los siguientes elementos\", lista_compra )\n",
    "\n",
    "\n",
    "\n",
    "lista_compra.append(\"frutos secos\")\n",
    "print(\"La lista de la compra contiene \", len(lista_compra), \"cosas con los siguientes elementos\", lista_compra )\n",
    "\n",
    "\n",
    "# creamos la lista de la compra de nuestra compañera\n",
    "lista_compra_compañera = [\"pan\", \"manzanas\"]\n",
    "\n",
    "# ahora vamos a añadir la lista de la compra de la compañera\n",
    "lista_compra.append(lista_compra_compañera)\n",
    "print(\"La lista de la compra contiene \", len(lista_compra), \"cosas con los siguientes elementos\", lista_compra "
   ]
  },
  {
   "cell_type": "code",
   "execution_count": 60,
   "metadata": {},
   "outputs": [
    {
     "name": "stdout",
     "output_type": "stream",
     "text": [
      "La lista de la compra USANDO APPEND contiene  2 cosas con los siguientes elementos ['chocolate', 'frutos secos']\n",
      "La lista de la compra USANDO EXTEND contiene  4 cosas con los siguientes elementos ['chocolate', 'frutos secos', 'pan', 'manzanas']\n"
     ]
    }
   ],
   "source": [
    "##extend\n",
    "# creamos la lista de la compra de nuestra compañera\n",
    "lista_compra_compañera = [\"pan\", \"manzanas\"]\n",
    "\n",
    "# ahora vamos a añadir la lista de la compra de la compañera\n",
    "print(\"La lista de la compra USANDO APPEND contiene \", len(lista_compra), \"cosas con los siguientes elementos\", lista_compra )\n",
    "\n",
    "# ahora vamos a añadir la lista de la compra de la compañera\n",
    "lista_compra.extend(lista_compra_compañera)\n",
    "print(\"La lista de la compra USANDO EXTEND contiene \", len(lista_compra), \"cosas con los siguientes elementos\", lista_compra )"
   ]
  }
 ],
 "metadata": {
  "kernelspec": {
   "display_name": "base",
   "language": "python",
   "name": "python3"
  },
  "language_info": {
   "codemirror_mode": {
    "name": "ipython",
    "version": 3
   },
   "file_extension": ".py",
   "mimetype": "text/x-python",
   "name": "python",
   "nbconvert_exporter": "python",
   "pygments_lexer": "ipython3",
   "version": "3.9.13"
  }
 },
 "nbformat": 4,
 "nbformat_minor": 2
}
