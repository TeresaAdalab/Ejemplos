{
 "cells": [
  {
   "cell_type": "code",
   "execution_count": 28,
   "metadata": {},
   "outputs": [
    {
     "name": "stdout",
     "output_type": "stream",
     "text": [
      "(3, 4, 5) es del tipo <class 'tuple'>\n"
     ]
    }
   ],
   "source": [
    "# definimos nuestra primera tupla\n",
    "tupla1 = (3,4,5)\n",
    "print(tupla1, \"es del tipo\", type(tupla1))"
   ]
  },
  {
   "cell_type": "code",
   "execution_count": 29,
   "metadata": {},
   "outputs": [
    {
     "name": "stdout",
     "output_type": "stream",
     "text": [
      "La lista nota contiene:  [8, 9, 10, 'A', 'B']\n",
      "\n",
      "La tupla de notas contiene:  (8, 9, 10, 'A', 'B')\n"
     ]
    }
   ],
   "source": [
    "# Imaginemos que tenemos una lista con números y letras, la podremos convertir a\n",
    "# definimos la lista\n",
    "notas = [8, 9, 10, \"A\", \"B\"]\n",
    "print(\"La lista nota contiene: \", notas)\n",
    "# creamos una variable nueva, donde almancenaremos el resultado de convertir la\n",
    "tupla_notas = tuple(notas)\n",
    "print(\"\\nLa tupla de notas contiene: \", tupla_notas)"
   ]
  },
  {
   "cell_type": "code",
   "execution_count": 30,
   "metadata": {},
   "outputs": [
    {
     "data": {
      "text/plain": [
       "('A', 'B', 'C', 'D', 'E', 'F', 'G', 'H', 'I')"
      ]
     },
     "execution_count": 30,
     "metadata": {},
     "output_type": "execute_result"
    }
   ],
   "source": [
    "# Indexación en tuplas\n",
    "\n",
    "letras = ('A', 'B', 'C', 'D', \"E\", \"F\", \"G\", \"H\", \"I\")\n",
    "letras"
   ]
  },
  {
   "cell_type": "code",
   "execution_count": 31,
   "metadata": {},
   "outputs": [
    {
     "name": "stdout",
     "output_type": "stream",
     "text": [
      "Sacamos los dos primeros elementos: [0: 2] = ('A', 'B')\n",
      "Que es exactamente lo mismo que: [: 2] = ('A', 'B')\n",
      "Usando índice negativos sería: [:-7] = ('A', 'B')\n",
      "Sacamos el segundo y tercer elemento: [1: 3] = ('B', 'C')\n",
      "Sacamos todos los elementos de la lista menos el primero: [1: ] = ('B', 'C', 'D', 'E', 'F', 'G', 'H', 'I')\n",
      "Sacamos los dos últimos elementos: [-2:] = ('H', 'I')\n"
     ]
    }
   ],
   "source": [
    "print('Sacamos los dos primeros elementos: [0: 2] =',letras[0:2])\n",
    "print('Que es exactamente lo mismo que: [: 2] =',letras[:2])\n",
    "print('Usando índice negativos sería: [:-7] =',letras[:-7])\n",
    "print('Sacamos el segundo y tercer elemento: [1: 3] =',letras[1:3])\n",
    "print('Sacamos todos los elementos de la lista menos el primero: [1: ] =',letras[1:])\n",
    "print('Sacamos los dos últimos elementos: [-2:] =',letras[-2:])"
   ]
  },
  {
   "cell_type": "code",
   "execution_count": 32,
   "metadata": {},
   "outputs": [
    {
     "name": "stdout",
     "output_type": "stream",
     "text": [
      "La longitud de la tupla es:  9\n",
      "El valor máximo de la tupla es:  9.6\n",
      "El valor mínimo de la tupla es:  4\n"
     ]
    }
   ],
   "source": [
    "#PROPIEDADES DE LAS TUPLAS\n",
    "tuplas_notas2 = (8, 9, 4, 6, 9, 9.6, 4.9, 6.7, 8.4)\n",
    "\n",
    "print(\"La longitud de la tupla es: \", len(tuplas_notas2))\n",
    "print(\"El valor máximo de la tupla es: \", max(tuplas_notas2))\n",
    "print(\"El valor mínimo de la tupla es: \", min(tuplas_notas2))"
   ]
  },
  {
   "cell_type": "code",
   "execution_count": 33,
   "metadata": {},
   "outputs": [],
   "source": [
    "#METODOS DE LAS TUPLAS"
   ]
  },
  {
   "cell_type": "code",
   "execution_count": 34,
   "metadata": {},
   "outputs": [
    {
     "name": "stdout",
     "output_type": "stream",
     "text": [
      "El contenido de la tupla es:  (8, 9, 4, 6, 9, 9.6, 4.9, 6.7, 8.4)\n",
      "La nota 4.9 está en la posición:  6\n",
      "La nota 9 aparece: 2 veces en la tupla\n",
      "La nota 9 aparece: 0 veces en la tupla\n"
     ]
    }
   ],
   "source": [
    "\n",
    "print(\"El contenido de la tupla es: \", tuplas_notas2)\n",
    "\n",
    "# saquemos ahora en que posición está la nota 4.9 usando el método INDEX()\n",
    "print(\"La nota 4.9 está en la posición: \", tuplas_notas2.index(4.9))\n",
    "\n",
    "# saquemos ahora cuántas veces aparece la nota 9 en nuestra tupla usando el método COUNT()\n",
    "print(\"La nota 9 aparece:\", tuplas_notas2.count(9), \"veces en la tupla\")\n",
    "\n",
    "\n",
    "print(\"La nota 9 aparece:\", tuplas_notas2.count(2), \"veces en la tupla\")"
   ]
  },
  {
   "cell_type": "code",
   "execution_count": 35,
   "metadata": {},
   "outputs": [
    {
     "name": "stdout",
     "output_type": "stream",
     "text": [
      "La tupla original es: ('Lola', 'Paula', 'Lorena')\n",
      "\n",
      "La tupla modificada es: ('Marta', 'Paula', 'Lorena')\n"
     ]
    }
   ],
   "source": [
    "#MODIFICACION DE TUPLAS\n",
    "\n",
    "\n",
    "tupla_nombres = (\"Lola\", \"Paula\", \"Lorena\")\n",
    "print(\"La tupla original es:\", tupla_nombres)\n",
    "\n",
    "# convertimos la tupla a lista usando el método list()\n",
    "lista_nombres = list(tupla_nombres)\n",
    "\n",
    "# cambiamos el nombre de \"Lola\" por el de otra alumna\n",
    "lista_nombres[0] = \"Marta\"\n",
    "\n",
    "# convertimos la lista a tupla usando el método tuple()\n",
    "tupla_nombres = tuple(lista_nombres)\n",
    "\n",
    " \n",
    "print(\"\\nLa tupla modificada es:\", tupla_nombres)"
   ]
  },
  {
   "cell_type": "code",
   "execution_count": 36,
   "metadata": {},
   "outputs": [
    {
     "name": "stdout",
     "output_type": "stream",
     "text": [
      "La tupla 1 original es: ('Lola', 'Paula', 'Lorena')\n",
      "La tupla 2 original es: ('Marta', 'Lidia', 'Ana')\n",
      "La tupla resultado de la concatenación es: ('Lola', 'Paula', 'Lorena', 'Marta', 'Lidia', 'Ana')\n"
     ]
    }
   ],
   "source": [
    "# definimos una tupla con nombres de alumnas, \n",
    "tupla_nombres1 = (\"Lola\", \"Paula\", \"Lorena\")\n",
    "print(\"La tupla 1 original es:\", tupla_nombres1)\n",
    "\n",
    "# definimos una nueva tupla con más nombres\n",
    "tupla_nombres2 = (\"Marta\", \"Lidia\", \"Ana\")\n",
    "print(\"La tupla 2 original es:\", tupla_nombres2)\n",
    "\n",
    "\n",
    "nueva_tupla_nombres = tupla_nombres1 + tupla_nombres2\n",
    "print(\"La tupla resultado de la concatenación es:\", nueva_tupla_nombres)"
   ]
  },
  {
   "cell_type": "code",
   "execution_count": 37,
   "metadata": {},
   "outputs": [
    {
     "name": "stdout",
     "output_type": "stream",
     "text": [
      "La tupla 1 original es: ('Lola', 'Paula', 'Lorena')\n",
      "La nueva tupla es: ('Maria', 'Paula', 'Lorena')\n"
     ]
    }
   ],
   "source": [
    "tupla_nombres = (\"Lola\", \"Paula\", \"Lorena\")\n",
    "print(\"La tupla 1 original es:\", tupla_nombres1)\n",
    "\n",
    "# descomponemos los valores de las tupla, es decir, generamos 3 variables donde cada variable corresponderá a cada uno de los elementos de la tupla\n",
    "a, b, c = tupla_nombres\n",
    "\n",
    "# creamos una nueva tupla usando las variables que hemos creado previamente\n",
    "tupla_nombres3 = (\"Maria\", b, c)\n",
    "print(\"La nueva tupla es:\", tupla_nombres3)\n"
   ]
  },
  {
   "cell_type": "code",
   "execution_count": 38,
   "metadata": {},
   "outputs": [
    {
     "name": "stdout",
     "output_type": "stream",
     "text": [
      "El resultado del zip de estas listas es: <zip object at 0x000001DFD7A86080>\n"
     ]
    }
   ],
   "source": [
    "# FUNCION ZIP\n",
    "# imaginemos que tenemos dos listas, una de letras y otra de números\n",
    "# imaginemos que tenemos dos listas, una de letras y otra de números\n",
    "\n",
    "letras = ['b', 'a', 'd', 'c']\n",
    "numeros = [ 2,   4,   3,   1]\n",
    "\n",
    "# sobre las cuáles vamos a aplicar un zip\n",
    "zip1 = zip(letras, numeros)\n",
    "print(\"El resultado del zip de estas listas es:\", zip1 )\n"
   ]
  },
  {
   "cell_type": "code",
   "execution_count": 39,
   "metadata": {},
   "outputs": [
    {
     "name": "stdout",
     "output_type": "stream",
     "text": [
      "El resultado del zip de estas listas es: [('b', 2, 'hola'), ('a', 4, 'adios'), ('d', 3, 'que tal')]\n"
     ]
    }
   ],
   "source": [
    "\n",
    "# nos podemos preguntar... lo podemos hacer con tres listas? \n",
    "## creemos otra lista, pero en este caso crearemos una lista con menos elementos\n",
    "\n",
    "otros = [\"hola\", \"adios\", \"que tal\"]\n",
    "\n",
    "# creamos otra variable, con un zip que incluye tres listas\n",
    "zip3 = list(zip(letras, numeros, otros))\n",
    "print(\"El resultado del zip de estas listas es:\", zip3 )"
   ]
  }
 ],
 "metadata": {
  "kernelspec": {
   "display_name": "Python 3",
   "language": "python",
   "name": "python3"
  },
  "language_info": {
   "codemirror_mode": {
    "name": "ipython",
    "version": 3
   },
   "file_extension": ".py",
   "mimetype": "text/x-python",
   "name": "python",
   "nbconvert_exporter": "python",
   "pygments_lexer": "ipython3",
   "version": "3.9.13"
  }
 },
 "nbformat": 4,
 "nbformat_minor": 2
}
