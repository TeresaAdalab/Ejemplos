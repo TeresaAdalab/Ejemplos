{
 "cells": [
  {
   "cell_type": "markdown",
   "metadata": {},
   "source": [
    "\n",
    "1 En este ejercicio de pair programming, vamos a crear una clase para gestionar la información de los empleados de nuestra empresa. Siguiendo las indicaciones del jefe, necesitamos organizar los datos de cada empleado de manera más estructurada."
   ]
  },
  {
   "cell_type": "code",
   "execution_count": 61,
   "metadata": {},
   "outputs": [],
   "source": [
    "class Empleados:\n",
    "    def __init__(self, nombre, apellidos, edad, posicion,anyo,vacaciones,herramientas):\n",
    "        self.nombre=nombre\n",
    "        self.apellidos = apellidos\n",
    "        self.edad = edad\n",
    "        self.posicion = posicion\n",
    "        self.anyo = anyo\n",
    "        self.vacaciones = vacaciones\n",
    "        self.herramientas=herramientas\n",
    "\n",
    "    def descripcion(self): \n",
    "        return f\"El empleado es {self.nombre}, su posicion es {self.posicion}, entró {self.anyo}, y le quedan {self.vacaciones}\"\n",
    "    \n",
    "    def cambiando_posicion(self,herrramientas):\n",
    "        for herramientas in self.herramientas:\n",
    "            if herrramientas==\"python\":\n",
    "                print(\"Enhorabuena eres un campeon\")\n",
    "            else:\n",
    "                print(\"Aprende python. Eres un antiguo\")\n",
    "                \n",
    "\n"
   ]
  },
  {
   "cell_type": "code",
   "execution_count": 58,
   "metadata": {},
   "outputs": [
    {
     "data": {
      "text/plain": [
       "'El empleado es Teresa, su posicion es gerente, entró 1995, y le quedan 30 días'"
      ]
     },
     "execution_count": 58,
     "metadata": {},
     "output_type": "execute_result"
    }
   ],
   "source": [
    "Persona=Empleados(\"Teresa\",\"garcia\", 30,\"gerente\",1995,\"30 dias\",\"python\")\n",
    "persona.descripcion()\n",
    "    "
   ]
  },
  {
   "cell_type": "code",
   "execution_count": 62,
   "metadata": {},
   "outputs": [
    {
     "ename": "AttributeError",
     "evalue": "'Empleados' object has no attribute 'cambiando_posicion'",
     "output_type": "error",
     "traceback": [
      "\u001b[1;31m---------------------------------------------------------------------------\u001b[0m",
      "\u001b[1;31mAttributeError\u001b[0m                            Traceback (most recent call last)",
      "Cell \u001b[1;32mIn[62], line 2\u001b[0m\n\u001b[0;32m      1\u001b[0m Persona\u001b[38;5;241m=\u001b[39mEmpleados(\u001b[38;5;124m\"\u001b[39m\u001b[38;5;124mTeresa\u001b[39m\u001b[38;5;124m\"\u001b[39m,\u001b[38;5;124m\"\u001b[39m\u001b[38;5;124mgarcia\u001b[39m\u001b[38;5;124m\"\u001b[39m, \u001b[38;5;241m30\u001b[39m,\u001b[38;5;124m\"\u001b[39m\u001b[38;5;124mgerente\u001b[39m\u001b[38;5;124m\"\u001b[39m,\u001b[38;5;241m1995\u001b[39m,\u001b[38;5;124m\"\u001b[39m\u001b[38;5;124m30 dias\u001b[39m\u001b[38;5;124m\"\u001b[39m,\u001b[38;5;124m\"\u001b[39m\u001b[38;5;124mpython\u001b[39m\u001b[38;5;124m\"\u001b[39m)\n\u001b[1;32m----> 2\u001b[0m \u001b[43mpersona\u001b[49m\u001b[38;5;241;43m.\u001b[39;49m\u001b[43mcambiando_posicion\u001b[49m()\n",
      "\u001b[1;31mAttributeError\u001b[0m: 'Empleados' object has no attribute 'cambiando_posicion'"
     ]
    }
   ],
   "source": [
    "Persona=Empleados(\"Teresa\",\"garcia\", 30,\"gerente\",1995,\"30 dias\",\"python\")\n",
    "persona.cambiando_posicion()"
   ]
  },
  {
   "cell_type": "code",
   "execution_count": null,
   "metadata": {},
   "outputs": [],
   "source": [
    "Método \n",
    "cambiando_posicion\n",
    ": Verifica las herramientas que el empleado tiene en su lista y devuelve un mensaje específico basado en las herramientas. Puede elogiar al empleado si tiene \"Python\" en su lista o sugerirle que deje de usar \"Excel\" y aprenda Python. "
   ]
  },
  {
   "cell_type": "code",
   "execution_count": null,
   "metadata": {},
   "outputs": [],
   "source": [
    "Método \n",
    "calcular_antiguedad\n",
    ": Calcula la antigüedad del empleado en años y meses desde el año de ingreso hasta la fecha actual."
   ]
  },
  {
   "cell_type": "markdown",
   "metadata": {},
   "source": [
    "Método \n",
    "solicitar_aumento_vacaciones\n",
    ":"
   ]
  },
  {
   "cell_type": "markdown",
   "metadata": {},
   "source": [
    "\n",
    "Método \n",
    "registrar_herramienta\n",
    ":"
   ]
  },
  {
   "cell_type": "markdown",
   "metadata": {},
   "source": [
    "\n",
    "Método \n",
    "cambiar_posicion\n",
    ": "
   ]
  },
  {
   "cell_type": "markdown",
   "metadata": {},
   "source": [
    "\n",
    "Método \n",
    "tomar_vacaciones\n",
    ":"
   ]
  },
  {
   "cell_type": "markdown",
   "metadata": {},
   "source": [
    "\n",
    "Método \n",
    "solicitar_aumento_salario\n",
    ": "
   ]
  },
  {
   "cell_type": "markdown",
   "metadata": {},
   "source": [
    "\n",
    "Método \n",
    "realizar_evaluacion"
   ]
  },
  {
   "cell_type": "markdown",
   "metadata": {},
   "source": []
  },
  {
   "cell_type": "markdown",
   "metadata": {},
   "source": [
    "En este ejercicio, se te pide crear una herencia de la clase creada en el ejercicio anterior. Esta clase hija se llama \"Gerente\" que hereda de la clase creada en el ejercicio anterior. Las instrucciones para crear esta clase son:"
   ]
  }
 ],
 "metadata": {
  "kernelspec": {
   "display_name": "Python 3",
   "language": "python",
   "name": "python3"
  },
  "language_info": {
   "codemirror_mode": {
    "name": "ipython",
    "version": 3
   },
   "file_extension": ".py",
   "mimetype": "text/x-python",
   "name": "python",
   "nbconvert_exporter": "python",
   "pygments_lexer": "ipython3",
   "version": "3.10.9"
  }
 },
 "nbformat": 4,
 "nbformat_minor": 2
}
